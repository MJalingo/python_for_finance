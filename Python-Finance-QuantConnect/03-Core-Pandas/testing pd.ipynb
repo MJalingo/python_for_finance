{
 "cells": [
  {
   "cell_type": "code",
   "execution_count": 1,
   "id": "0a85da7b",
   "metadata": {},
   "outputs": [],
   "source": [
    "import numpy as np\n",
    "import pandas as pd"
   ]
  },
  {
   "cell_type": "code",
   "execution_count": 2,
   "id": "838c0180",
   "metadata": {},
   "outputs": [],
   "source": [
    "# help(pd.Series)"
   ]
  },
  {
   "cell_type": "code",
   "execution_count": 4,
   "id": "ee5328df",
   "metadata": {},
   "outputs": [],
   "source": [
    "myindex = ['USA','Canada','Mexico']"
   ]
  },
  {
   "cell_type": "code",
   "execution_count": 5,
   "id": "8bd16e96",
   "metadata": {},
   "outputs": [],
   "source": [
    "mydata = [1776,1867,1821]"
   ]
  },
  {
   "cell_type": "code",
   "execution_count": 8,
   "id": "14b523a2",
   "metadata": {},
   "outputs": [],
   "source": [
    "myser = pd.Series(data=mydata,index=myindex)"
   ]
  },
  {
   "cell_type": "code",
   "execution_count": 9,
   "id": "0c50b984",
   "metadata": {},
   "outputs": [
    {
     "data": {
      "text/plain": [
       "USA       1776\n",
       "Canada    1867\n",
       "Mexico    1821\n",
       "dtype: int64"
      ]
     },
     "execution_count": 9,
     "metadata": {},
     "output_type": "execute_result"
    }
   ],
   "source": [
    "myser"
   ]
  },
  {
   "cell_type": "code",
   "execution_count": 10,
   "id": "28b00562",
   "metadata": {},
   "outputs": [
    {
     "data": {
      "text/plain": [
       "1776"
      ]
     },
     "execution_count": 10,
     "metadata": {},
     "output_type": "execute_result"
    }
   ],
   "source": [
    "myser[0]"
   ]
  },
  {
   "cell_type": "code",
   "execution_count": 11,
   "id": "a39a6218",
   "metadata": {},
   "outputs": [
    {
     "data": {
      "text/plain": [
       "1776"
      ]
     },
     "execution_count": 11,
     "metadata": {},
     "output_type": "execute_result"
    }
   ],
   "source": [
    "myser['USA']"
   ]
  },
  {
   "cell_type": "code",
   "execution_count": 12,
   "id": "c96e77d6",
   "metadata": {},
   "outputs": [],
   "source": [
    "age ={'Sam':5,'Frank':10,'Spike':7}"
   ]
  },
  {
   "cell_type": "code",
   "execution_count": 15,
   "id": "4f12af5e",
   "metadata": {
    "scrolled": true
   },
   "outputs": [
    {
     "data": {
      "text/plain": [
       "Sam       5\n",
       "Frank    10\n",
       "Spike     7\n",
       "dtype: int64"
      ]
     },
     "execution_count": 15,
     "metadata": {},
     "output_type": "execute_result"
    }
   ],
   "source": [
    "pd.Series(age)"
   ]
  },
  {
   "cell_type": "code",
   "execution_count": 16,
   "id": "40c52526",
   "metadata": {},
   "outputs": [],
   "source": [
    "arr=[1,2,3,4,5]"
   ]
  },
  {
   "cell_type": "code",
   "execution_count": 17,
   "id": "76563a7c",
   "metadata": {},
   "outputs": [
    {
     "name": "stdout",
     "output_type": "stream",
     "text": [
      "10 14\n"
     ]
    }
   ],
   "source": [
    "mn=sum(arr)-max(arr)\n",
    "mx=sum(arr)-min(arr)\n",
    "print(mn,mx)"
   ]
  },
  {
   "cell_type": "code",
   "execution_count": 20,
   "id": "e2efd3cb",
   "metadata": {},
   "outputs": [
    {
     "data": {
      "text/plain": [
       "1"
      ]
     },
     "execution_count": 20,
     "metadata": {},
     "output_type": "execute_result"
    }
   ],
   "source": [
    "sum(arr)\n",
    "max(arr)\n",
    "min(arr)."
   ]
  },
  {
   "cell_type": "code",
   "execution_count": 23,
   "id": "39af27d8",
   "metadata": {},
   "outputs": [],
   "source": [
    "def birthdayCakeCandles(candles):\n",
    "    count=0\n",
    "    for i in candles:#index,item in enumerate(candles)\n",
    "        if max(candles)==i:\n",
    "            count+=1\n",
    "    print(count)"
   ]
  },
  {
   "cell_type": "code",
   "execution_count": 24,
   "id": "c7f44c19",
   "metadata": {},
   "outputs": [
    {
     "name": "stdout",
     "output_type": "stream",
     "text": [
      "1\n"
     ]
    }
   ],
   "source": [
    "birthdayCakeCandles([1,2,4,2])"
   ]
  },
  {
   "cell_type": "code",
   "execution_count": 29,
   "id": "8bde22df",
   "metadata": {},
   "outputs": [],
   "source": [
    "def birthdaycakecandles(candles):\n",
    "\n",
    "    maximum = max(candles).count()\n",
    "    list = []\n",
    "    for i in range(0,len(candles)):\n",
    "        if candles[i]==maximum:\n",
    "            list.append(candles[i])\n",
    "    print(len(list))"
   ]
  },
  {
   "cell_type": "code",
   "execution_count": 30,
   "id": "897a09b1",
   "metadata": {
    "collapsed": true
   },
   "outputs": [
    {
     "ename": "AttributeError",
     "evalue": "'int' object has no attribute 'count'",
     "output_type": "error",
     "traceback": [
      "\u001b[1;31m---------------------------------------------------------------------------\u001b[0m",
      "\u001b[1;31mAttributeError\u001b[0m                            Traceback (most recent call last)",
      "Input \u001b[1;32mIn [30]\u001b[0m, in \u001b[0;36m<cell line: 1>\u001b[1;34m()\u001b[0m\n\u001b[1;32m----> 1\u001b[0m \u001b[43mbirthdaycakecandles\u001b[49m\u001b[43m(\u001b[49m\u001b[43m[\u001b[49m\u001b[38;5;241;43m1\u001b[39;49m\u001b[43m,\u001b[49m\u001b[38;5;241;43m2\u001b[39;49m\u001b[43m,\u001b[49m\u001b[38;5;241;43m4\u001b[39;49m\u001b[43m,\u001b[49m\u001b[38;5;241;43m2\u001b[39;49m\u001b[43m]\u001b[49m\u001b[43m)\u001b[49m\n",
      "Input \u001b[1;32mIn [29]\u001b[0m, in \u001b[0;36mbirthdaycakecandles\u001b[1;34m(candles)\u001b[0m\n\u001b[0;32m      1\u001b[0m \u001b[38;5;28;01mdef\u001b[39;00m \u001b[38;5;21mbirthdaycakecandles\u001b[39m(candles):\n\u001b[1;32m----> 3\u001b[0m     maximum \u001b[38;5;241m=\u001b[39m \u001b[38;5;28;43mmax\u001b[39;49m\u001b[43m(\u001b[49m\u001b[43mcandles\u001b[49m\u001b[43m)\u001b[49m\u001b[38;5;241;43m.\u001b[39;49m\u001b[43mcount\u001b[49m()\n\u001b[0;32m      4\u001b[0m     \u001b[38;5;28mlist\u001b[39m \u001b[38;5;241m=\u001b[39m []\n\u001b[0;32m      5\u001b[0m     \u001b[38;5;28;01mfor\u001b[39;00m i \u001b[38;5;129;01min\u001b[39;00m \u001b[38;5;28mrange\u001b[39m(\u001b[38;5;241m0\u001b[39m,\u001b[38;5;28mlen\u001b[39m(candles)):\n",
      "\u001b[1;31mAttributeError\u001b[0m: 'int' object has no attribute 'count'"
     ]
    }
   ],
   "source": [
    "birthdaycakecandles([1,2,4,2])"
   ]
  },
  {
   "cell_type": "code",
   "execution_count": 42,
   "id": "00a3670c",
   "metadata": {},
   "outputs": [
    {
     "ename": "AttributeError",
     "evalue": "'int' object has no attribute 'count'",
     "output_type": "error",
     "traceback": [
      "\u001b[1;31m---------------------------------------------------------------------------\u001b[0m",
      "\u001b[1;31mAttributeError\u001b[0m                            Traceback (most recent call last)",
      "Input \u001b[1;32mIn [42]\u001b[0m, in \u001b[0;36m<cell line: 2>\u001b[1;34m()\u001b[0m\n\u001b[0;32m      1\u001b[0m items\u001b[38;5;241m=\u001b[39m[\u001b[38;5;241m3\u001b[39m,\u001b[38;5;241m2\u001b[39m,\u001b[38;5;241m1\u001b[39m,\u001b[38;5;241m3\u001b[39m]\n\u001b[1;32m----> 2\u001b[0m \u001b[38;5;28;43mmax\u001b[39;49m\u001b[43m(\u001b[49m\u001b[43mitems\u001b[49m\u001b[43m)\u001b[49m\u001b[38;5;241;43m.\u001b[39;49m\u001b[43mcount\u001b[49m()\n",
      "\u001b[1;31mAttributeError\u001b[0m: 'int' object has no attribute 'count'"
     ]
    }
   ],
   "source": [
    "items=[3,2,1,3]\n",
    "max(items).count()"
   ]
  },
  {
   "cell_type": "code",
   "execution_count": 38,
   "id": "c0cfb650",
   "metadata": {},
   "outputs": [],
   "source": [
    "counts = [candles.count(item) for item in candles]\n",
    "\n",
    "print(max(counts))"
   ]
  },
  {
   "cell_type": "code",
   "execution_count": 45,
   "id": "fb8bc856",
   "metadata": {},
   "outputs": [],
   "source": [
    "def birthdayCakeCandles(candles):\n",
    "    # Write your code here\n",
    "    counts = [candles.count(item) for item in candles]\n",
    "    print(max(counts))\n",
    "    # maximum = max(candles)\n",
    "    # list = []\n",
    "    # for i in range(0,len(candles)):\n",
    "    #     if candles[i]==maximum:\n",
    "    #         list.append(candles[i])\n",
    "    # print(len(list))\n",
    "    # # count=0\n",
    "    # for i in candles:#index,item in enumerate(candles)\n",
    "    #     if max(candles)==i:\n",
    "    #         count+=1\n",
    "    # print(count)"
   ]
  },
  {
   "cell_type": "code",
   "execution_count": 46,
   "id": "4979e3c8",
   "metadata": {},
   "outputs": [
    {
     "name": "stdout",
     "output_type": "stream",
     "text": [
      "2\n"
     ]
    }
   ],
   "source": [
    "birthdayCakeCandles([3,2,1,3])"
   ]
  },
  {
   "cell_type": "code",
   "execution_count": 9,
   "id": "df7593f2",
   "metadata": {},
   "outputs": [
    {
     "name": "stdout",
     "output_type": "stream",
     "text": [
      "Alpha\n"
     ]
    }
   ],
   "source": [
    "def mostActive(*customers):\n",
    "    ans=sorted(set(customers))\n",
    "    for i in ans:\n",
    "        print(i)\n",
    "mostActive((\"Alpha\"))"
   ]
  },
  {
   "cell_type": "code",
   "execution_count": 5,
   "id": "ee98bcdf",
   "metadata": {},
   "outputs": [
    {
     "name": "stdout",
     "output_type": "stream",
     "text": [
      "Canada\n",
      "Mexico\n",
      "USA\n"
     ]
    }
   ],
   "source": [
    "mostActive('USA','Canada','Mexico')"
   ]
  },
  {
   "cell_type": "code",
   "execution_count": 84,
   "id": "6ee54f0b",
   "metadata": {},
   "outputs": [],
   "source": [
    "def dayOfProgrammer(year):\n",
    "    if year%4==0:\n",
    "#         print(f'{256-(366-122)}.09.{year}')\n",
    "        if year%100!=0 and year%400==0:\n",
    "            print(f'{256-(366-122)}.09.{year}')\n",
    "        else:\n",
    "            print(f'{256-(365-122)}.09.{year}')"
   ]
  },
  {
   "cell_type": "code",
   "execution_count": 108,
   "id": "66d0721b",
   "metadata": {},
   "outputs": [],
   "source": [
    "def dayOfProgrammer(year):\n",
    "    # Write your code here\n",
    "    # if year%4==0 and year%400==0:\n",
    "    #     return(f'{256-(366-122)}.0{9}.{year}')\n",
    "    # if year%4==0 and year%100!=0:\n",
    "    #     return(f'{256-(366-122)}.0{9}.{year}')\n",
    "    if year%4==0 and year%100!=0 or year%100==0 and year%400==0 :\n",
    "        return(f'{256-(366-122)}.0{9}.{year}')\n",
    "    else:\n",
    "        return(f'{256-(365-122)}.0{9}.{year}')"
   ]
  },
  {
   "cell_type": "code",
   "execution_count": 110,
   "id": "1d262569",
   "metadata": {},
   "outputs": [
    {
     "data": {
      "text/plain": [
       "'12.09.2016'"
      ]
     },
     "execution_count": 110,
     "metadata": {},
     "output_type": "execute_result"
    }
   ],
   "source": [
    "dayOfProgrammer(2016)"
   ]
  },
  {
   "cell_type": "code",
   "execution_count": 63,
   "id": "8195ed7b",
   "metadata": {},
   "outputs": [],
   "source": [
    "year=1700\n",
    "if year%4==0 and year%400==0 or year%4==0 and year%100!=0:\n",
    "    print('hi')"
   ]
  },
  {
   "cell_type": "code",
   "execution_count": 107,
   "id": "e9c58c96",
   "metadata": {},
   "outputs": [
    {
     "name": "stdout",
     "output_type": "stream",
     "text": [
      "not leap\n"
     ]
    }
   ],
   "source": [
    "if 1800%4==0 and 1800%100!=0:\n",
    "    print('leap')\n",
    "elif 1800%100==0 and 1800%400==0:\n",
    "    print('leap')\n",
    "else:\n",
    "    print('not leap')"
   ]
  },
  {
   "cell_type": "code",
   "execution_count": null,
   "id": "bf86d5b5",
   "metadata": {},
   "outputs": [],
   "source": []
  }
 ],
 "metadata": {
  "kernelspec": {
   "display_name": "Python 3 (ipykernel)",
   "language": "python",
   "name": "python3"
  },
  "language_info": {
   "codemirror_mode": {
    "name": "ipython",
    "version": 3
   },
   "file_extension": ".py",
   "mimetype": "text/x-python",
   "name": "python",
   "nbconvert_exporter": "python",
   "pygments_lexer": "ipython3",
   "version": "3.9.12"
  }
 },
 "nbformat": 4,
 "nbformat_minor": 5
}
