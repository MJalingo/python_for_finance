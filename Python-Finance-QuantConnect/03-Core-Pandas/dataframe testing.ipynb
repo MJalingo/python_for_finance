{
 "cells": [
  {
   "cell_type": "code",
   "execution_count": 1,
   "id": "76cfb740",
   "metadata": {},
   "outputs": [],
   "source": [
    "import pandas as pd\n",
    "import numpy as np"
   ]
  },
  {
   "cell_type": "code",
   "execution_count": 2,
   "id": "2fb2c6c0",
   "metadata": {},
   "outputs": [
    {
     "data": {
      "text/plain": [
       "'100.0 Billion'"
      ]
     },
     "execution_count": 2,
     "metadata": {},
     "output_type": "execute_result"
    }
   ],
   "source": [
    "\n",
    "#  with float()\n",
    "\n",
    "def with_billion(bill):\n",
    "    cut = str(bill)\n",
    "    if (bill > 999999999) & (bill < 10000000000):\n",
    "        '''One billion 1,000,000,000 '''\n",
    "        bill_cut = float(f\"{cut[0]}.{cut[1:]}\")\n",
    "        return(f'{bill_cut:.1f} Billion')\n",
    "    elif (bill > 9999999999) & (bill < 100000000000):\n",
    "        '''Two billion 10,000,000,000 '''\n",
    "        bill_cut = float(f\"{cut[:2]}.{cut[2:]}\")\n",
    "        return(f'{bill_cut:.1f} Billion')\n",
    "    elif( bill > 99999999999) & (bill < 1000000000000):\n",
    "        '''One billion 100,000,000,000 '''\n",
    "        bill_cut = float(f\"{cut[:3]}.{cut[3:]}\")\n",
    "        return(f'{bill_cut:.1f} Billion')\n",
    "\n",
    "#  with just indexing and slicing\n",
    "\n",
    "def billion(bill):\n",
    "    cut = str(bill)\n",
    "    if (bill > 999999999) & (bill < 10000000000):\n",
    "        '''One billion 1,000,000,000 '''\n",
    "        bill_cut = (f\"{cut[0]}.{cut[1:]}\")\n",
    "        return(f'{bill_cut[:3]} Billion')\n",
    "    elif (bill > 9999999999) & (bill < 100000000000):\n",
    "        '''Two billion 10,000,000,000 '''\n",
    "        bill_cut = (f\"{cut[:2]}.{cut[2:]}\")\n",
    "        return(f'{bill_cut[:4]} Billion')\n",
    "    elif( bill > 99999999999) & (bill < 1000000000000):\n",
    "        '''One billion 100,000,000,000 '''\n",
    "        bill_cut = (f\"{cut[:3]}.{cut[3:]}\")\n",
    "        return(f'{bill_cut[:5]} Billion')\n",
    "billion(100000000000)"
   ]
  },
  {
   "cell_type": "code",
   "execution_count": 3,
   "id": "9855f7fa",
   "metadata": {},
   "outputs": [],
   "source": [
    "data1 = pd.read_csv('constituents-financials.csv')\n",
    "data2 = pd.read_csv('constituents.csv')"
   ]
  },
  {
   "cell_type": "code",
   "execution_count": 4,
   "id": "04590e54",
   "metadata": {},
   "outputs": [
    {
     "name": "stdout",
     "output_type": "stream",
     "text": [
      "[32, 33, 34, 67, 68, 3, 70, 84, 25, 28, 61] 25\n"
     ]
    },
    {
     "data": {
      "text/plain": [
       "['Materials',\n",
       " 'Health Care',\n",
       " 'Utilities',\n",
       " 'Consumer Discretionary',\n",
       " 'Real Estate',\n",
       " 'Energy',\n",
       " 'Financials',\n",
       " 'Information Technology',\n",
       " 'Consumer Staples',\n",
       " 'Industrials',\n",
       " 'Telecommunication Services']"
      ]
     },
     "execution_count": 4,
     "metadata": {},
     "output_type": "execute_result"
    }
   ],
   "source": [
    "mylist = list()\n",
    "my_set = list()\n",
    "for item in (data2['Sector']):\n",
    "    se = str(item).split(',')\n",
    "    mylist.extend(se)\n",
    "for i in mylist:\n",
    "    it=set(i)\n",
    "    my_set.append(mylist.count(i))\n",
    "print(list(set(my_set)),mylist.count('Materials'))\n",
    "list(set(mylist))"
   ]
  },
  {
   "cell_type": "code",
   "execution_count": 5,
   "id": "aced0ed8",
   "metadata": {},
   "outputs": [],
   "source": [
    "def occurrance(where):\n",
    "    count = dict()\n",
    "    for sector in data2[where]:\n",
    "        if sector in count:\n",
    "            count[sector] += 1\n",
    "        else:\n",
    "            count[sector] = 1\n",
    "    return(count)"
   ]
  },
  {
   "cell_type": "code",
   "execution_count": 6,
   "id": "653a8cf5",
   "metadata": {},
   "outputs": [
    {
     "data": {
      "text/plain": [
       "{'Industrials': 67,\n",
       " 'Health Care': 61,\n",
       " 'Information Technology': 70,\n",
       " 'Consumer Discretionary': 84,\n",
       " 'Utilities': 28,\n",
       " 'Financials': 68,\n",
       " 'Materials': 25,\n",
       " 'Real Estate': 33,\n",
       " 'Consumer Staples': 34,\n",
       " 'Energy': 32,\n",
       " 'Telecommunication Services': 3}"
      ]
     },
     "execution_count": 6,
     "metadata": {},
     "output_type": "execute_result"
    }
   ],
   "source": [
    "occurrance('Sector')"
   ]
  },
  {
   "cell_type": "code",
   "execution_count": 7,
   "id": "19ba1eed",
   "metadata": {},
   "outputs": [],
   "source": [
    "np.random.seed(101)\n",
    "mydata = np.random.randint(0,101,(4,3))"
   ]
  },
  {
   "cell_type": "code",
   "execution_count": 8,
   "id": "c1c5fe83",
   "metadata": {},
   "outputs": [
    {
     "data": {
      "text/plain": [
       "array([[95, 11, 81],\n",
       "       [70, 63, 87],\n",
       "       [75,  9, 77],\n",
       "       [40,  4, 63]])"
      ]
     },
     "execution_count": 8,
     "metadata": {},
     "output_type": "execute_result"
    }
   ],
   "source": [
    "mydata"
   ]
  },
  {
   "cell_type": "code",
   "execution_count": 9,
   "id": "95f4e302",
   "metadata": {},
   "outputs": [],
   "source": [
    "myindex = ['CA','NY','AZ','TX']\n",
    "mycolumns = ['Jan','Feb','Mar']"
   ]
  },
  {
   "cell_type": "code",
   "execution_count": 10,
   "id": "944eb408",
   "metadata": {},
   "outputs": [],
   "source": [
    "df = pd.DataFrame(mydata,myindex,mycolumns)"
   ]
  },
  {
   "cell_type": "code",
   "execution_count": 11,
   "id": "16f2050a",
   "metadata": {},
   "outputs": [
    {
     "data": {
      "text/html": [
       "<div>\n",
       "<style scoped>\n",
       "    .dataframe tbody tr th:only-of-type {\n",
       "        vertical-align: middle;\n",
       "    }\n",
       "\n",
       "    .dataframe tbody tr th {\n",
       "        vertical-align: top;\n",
       "    }\n",
       "\n",
       "    .dataframe thead th {\n",
       "        text-align: right;\n",
       "    }\n",
       "</style>\n",
       "<table border=\"1\" class=\"dataframe\">\n",
       "  <thead>\n",
       "    <tr style=\"text-align: right;\">\n",
       "      <th></th>\n",
       "      <th>Jan</th>\n",
       "      <th>Feb</th>\n",
       "      <th>Mar</th>\n",
       "    </tr>\n",
       "  </thead>\n",
       "  <tbody>\n",
       "    <tr>\n",
       "      <th>CA</th>\n",
       "      <td>95</td>\n",
       "      <td>11</td>\n",
       "      <td>81</td>\n",
       "    </tr>\n",
       "    <tr>\n",
       "      <th>NY</th>\n",
       "      <td>70</td>\n",
       "      <td>63</td>\n",
       "      <td>87</td>\n",
       "    </tr>\n",
       "    <tr>\n",
       "      <th>AZ</th>\n",
       "      <td>75</td>\n",
       "      <td>9</td>\n",
       "      <td>77</td>\n",
       "    </tr>\n",
       "    <tr>\n",
       "      <th>TX</th>\n",
       "      <td>40</td>\n",
       "      <td>4</td>\n",
       "      <td>63</td>\n",
       "    </tr>\n",
       "  </tbody>\n",
       "</table>\n",
       "</div>"
      ],
      "text/plain": [
       "    Jan  Feb  Mar\n",
       "CA   95   11   81\n",
       "NY   70   63   87\n",
       "AZ   75    9   77\n",
       "TX   40    4   63"
      ]
     },
     "execution_count": 11,
     "metadata": {},
     "output_type": "execute_result"
    }
   ],
   "source": [
    "df"
   ]
  },
  {
   "cell_type": "code",
   "execution_count": 12,
   "id": "dce620ec",
   "metadata": {},
   "outputs": [
    {
     "name": "stdout",
     "output_type": "stream",
     "text": [
      "<class 'pandas.core.frame.DataFrame'>\n",
      "Index: 4 entries, CA to TX\n",
      "Data columns (total 3 columns):\n",
      " #   Column  Non-Null Count  Dtype\n",
      "---  ------  --------------  -----\n",
      " 0   Jan     4 non-null      int32\n",
      " 1   Feb     4 non-null      int32\n",
      " 2   Mar     4 non-null      int32\n",
      "dtypes: int32(3)\n",
      "memory usage: 80.0+ bytes\n"
     ]
    }
   ],
   "source": [
    "df.info()"
   ]
  },
  {
   "cell_type": "code",
   "execution_count": 13,
   "id": "00ac76ef",
   "metadata": {
    "scrolled": false
   },
   "outputs": [
    {
     "data": {
      "text/plain": [
       "'C:\\\\Users\\\\princ\\\\Documents\\\\Ncair\\\\Python_For_Finance\\\\Python-Finance-QuantConnect\\\\03-Core-Pandas'"
      ]
     },
     "execution_count": 13,
     "metadata": {},
     "output_type": "execute_result"
    }
   ],
   "source": [
    "pwd"
   ]
  },
  {
   "cell_type": "code",
   "execution_count": 14,
   "id": "41a2cfd8",
   "metadata": {},
   "outputs": [
    {
     "name": "stdout",
     "output_type": "stream",
     "text": [
      " Volume in drive C is Windows 10\n",
      " Volume Serial Number is 84BB-FC38\n",
      "\n",
      " Directory of C:\\Users\\princ\\Documents\\Ncair\\Python_For_Finance\\Python-Finance-QuantConnect\\03-Core-Pandas\n",
      "\n",
      "23/01/2023  12:26    <DIR>          .\n",
      "10/12/2022  10:27    <DIR>          ..\n",
      "17/01/2023  10:15    <DIR>          .ipynb_checkpoints\n",
      "19/01/2023  14:38    <DIR>          __pycache__\n",
      "20/12/2022  12:01           662,929 00-Series.ipynb\n",
      "29/12/2022  09:36           208,970 01-DataFrames.ipynb\n",
      "14/01/2023  13:51           164,391 02-Conditional-Filtering.ipynb\n",
      "12/01/2023  10:19           196,398 03-Useful-Methods.ipynb\n",
      "17/01/2023  10:15            62,979 04-Combining-DataFrames.ipynb\n",
      "28/09/2021  02:16            65,234 05-Inputs-and-Outputs.ipynb\n",
      "23/01/2023  12:20           115,736 06-Core-Pandas-Finance-Exercise.ipynb\n",
      "28/09/2021  02:16            66,826 07-Core-Pandas-Finance-Exercise-SOLUTIONS.ipynb\n",
      "28/09/2021  02:16            18,676 constituents.csv\n",
      "28/09/2021  02:16            73,270 constituents-financials.csv\n",
      "23/01/2023  12:26            43,481 dataframe testing.ipynb\n",
      "28/09/2021  02:16                46 example.csv\n",
      "28/09/2021  02:16             5,022 example.xlsx\n",
      "28/09/2021  02:16        24,992,926 hotel_booking_data.csv\n",
      "28/09/2021  02:16               171 movie_scores.csv\n",
      "28/09/2021  02:16            17,727 mpg.csv\n",
      "28/09/2021  02:16             5,022 my_excel_file.xlsx\n",
      "28/09/2021  02:16                46 new_file.csv\n",
      "28/09/2021  02:16             5,021 new_workbook.xlsx\n",
      "28/09/2021  02:16                46 newfile.csv\n",
      "19/01/2023  13:17             1,492 pandas_module.py\n",
      "28/09/2021  02:16            52,132 reshaping_pivot.png\n",
      "28/09/2021  02:16             5,459 RetailSales_BeerWineLiquor.csv\n",
      "28/09/2021  02:16             1,302 Sales_Funnel_CRM.csv\n",
      "28/09/2021  02:16             1,330 sample_table.html\n",
      "28/09/2021  02:16               555 simple.html\n",
      "12/01/2023  10:09            12,034 testing pd.ipynb\n",
      "07/01/2023  17:16             1,331 testing_html.html\n",
      "28/09/2021  02:16            18,507 tips.csv\n",
      "              29 File(s)     26,799,059 bytes\n",
      "               4 Dir(s)  597,866,242,048 bytes free\n"
     ]
    }
   ],
   "source": [
    "ls"
   ]
  },
  {
   "cell_type": "code",
   "execution_count": 15,
   "id": "bf978c4f",
   "metadata": {},
   "outputs": [],
   "source": [
    "df = pd.read_csv('C:\\\\Users\\\\princ\\\\Documents\\\\Ncair\\\\Python_For_Finance\\\\Python-Finance-QuantConnect\\\\03-Core-Pandas\\\\tips.csv')"
   ]
  },
  {
   "cell_type": "code",
   "execution_count": 16,
   "id": "0c6b486f",
   "metadata": {},
   "outputs": [
    {
     "data": {
      "text/html": [
       "<div>\n",
       "<style scoped>\n",
       "    .dataframe tbody tr th:only-of-type {\n",
       "        vertical-align: middle;\n",
       "    }\n",
       "\n",
       "    .dataframe tbody tr th {\n",
       "        vertical-align: top;\n",
       "    }\n",
       "\n",
       "    .dataframe thead th {\n",
       "        text-align: right;\n",
       "    }\n",
       "</style>\n",
       "<table border=\"1\" class=\"dataframe\">\n",
       "  <thead>\n",
       "    <tr style=\"text-align: right;\">\n",
       "      <th></th>\n",
       "      <th>total_bill</th>\n",
       "      <th>tip</th>\n",
       "      <th>sex</th>\n",
       "      <th>smoker</th>\n",
       "      <th>day</th>\n",
       "      <th>time</th>\n",
       "      <th>size</th>\n",
       "      <th>price_per_person</th>\n",
       "      <th>Payer Name</th>\n",
       "      <th>CC Number</th>\n",
       "      <th>Payment ID</th>\n",
       "    </tr>\n",
       "  </thead>\n",
       "  <tbody>\n",
       "    <tr>\n",
       "      <th>0</th>\n",
       "      <td>16.99</td>\n",
       "      <td>1.01</td>\n",
       "      <td>Female</td>\n",
       "      <td>No</td>\n",
       "      <td>Sun</td>\n",
       "      <td>Dinner</td>\n",
       "      <td>2</td>\n",
       "      <td>8.49</td>\n",
       "      <td>Christy Cunningham</td>\n",
       "      <td>3560325168603410</td>\n",
       "      <td>Sun2959</td>\n",
       "    </tr>\n",
       "    <tr>\n",
       "      <th>1</th>\n",
       "      <td>10.34</td>\n",
       "      <td>1.66</td>\n",
       "      <td>Male</td>\n",
       "      <td>No</td>\n",
       "      <td>Sun</td>\n",
       "      <td>Dinner</td>\n",
       "      <td>3</td>\n",
       "      <td>3.45</td>\n",
       "      <td>Douglas Tucker</td>\n",
       "      <td>4478071379779230</td>\n",
       "      <td>Sun4608</td>\n",
       "    </tr>\n",
       "    <tr>\n",
       "      <th>2</th>\n",
       "      <td>21.01</td>\n",
       "      <td>3.50</td>\n",
       "      <td>Male</td>\n",
       "      <td>No</td>\n",
       "      <td>Sun</td>\n",
       "      <td>Dinner</td>\n",
       "      <td>3</td>\n",
       "      <td>7.00</td>\n",
       "      <td>Travis Walters</td>\n",
       "      <td>6011812112971322</td>\n",
       "      <td>Sun4458</td>\n",
       "    </tr>\n",
       "    <tr>\n",
       "      <th>3</th>\n",
       "      <td>23.68</td>\n",
       "      <td>3.31</td>\n",
       "      <td>Male</td>\n",
       "      <td>No</td>\n",
       "      <td>Sun</td>\n",
       "      <td>Dinner</td>\n",
       "      <td>2</td>\n",
       "      <td>11.84</td>\n",
       "      <td>Nathaniel Harris</td>\n",
       "      <td>4676137647685994</td>\n",
       "      <td>Sun5260</td>\n",
       "    </tr>\n",
       "    <tr>\n",
       "      <th>4</th>\n",
       "      <td>24.59</td>\n",
       "      <td>3.61</td>\n",
       "      <td>Female</td>\n",
       "      <td>No</td>\n",
       "      <td>Sun</td>\n",
       "      <td>Dinner</td>\n",
       "      <td>4</td>\n",
       "      <td>6.15</td>\n",
       "      <td>Tonya Carter</td>\n",
       "      <td>4832732618637221</td>\n",
       "      <td>Sun2251</td>\n",
       "    </tr>\n",
       "    <tr>\n",
       "      <th>...</th>\n",
       "      <td>...</td>\n",
       "      <td>...</td>\n",
       "      <td>...</td>\n",
       "      <td>...</td>\n",
       "      <td>...</td>\n",
       "      <td>...</td>\n",
       "      <td>...</td>\n",
       "      <td>...</td>\n",
       "      <td>...</td>\n",
       "      <td>...</td>\n",
       "      <td>...</td>\n",
       "    </tr>\n",
       "    <tr>\n",
       "      <th>239</th>\n",
       "      <td>29.03</td>\n",
       "      <td>5.92</td>\n",
       "      <td>Male</td>\n",
       "      <td>No</td>\n",
       "      <td>Sat</td>\n",
       "      <td>Dinner</td>\n",
       "      <td>3</td>\n",
       "      <td>9.68</td>\n",
       "      <td>Michael Avila</td>\n",
       "      <td>5296068606052842</td>\n",
       "      <td>Sat2657</td>\n",
       "    </tr>\n",
       "    <tr>\n",
       "      <th>240</th>\n",
       "      <td>27.18</td>\n",
       "      <td>2.00</td>\n",
       "      <td>Female</td>\n",
       "      <td>Yes</td>\n",
       "      <td>Sat</td>\n",
       "      <td>Dinner</td>\n",
       "      <td>2</td>\n",
       "      <td>13.59</td>\n",
       "      <td>Monica Sanders</td>\n",
       "      <td>3506806155565404</td>\n",
       "      <td>Sat1766</td>\n",
       "    </tr>\n",
       "    <tr>\n",
       "      <th>241</th>\n",
       "      <td>22.67</td>\n",
       "      <td>2.00</td>\n",
       "      <td>Male</td>\n",
       "      <td>Yes</td>\n",
       "      <td>Sat</td>\n",
       "      <td>Dinner</td>\n",
       "      <td>2</td>\n",
       "      <td>11.34</td>\n",
       "      <td>Keith Wong</td>\n",
       "      <td>6011891618747196</td>\n",
       "      <td>Sat3880</td>\n",
       "    </tr>\n",
       "    <tr>\n",
       "      <th>242</th>\n",
       "      <td>17.82</td>\n",
       "      <td>1.75</td>\n",
       "      <td>Male</td>\n",
       "      <td>No</td>\n",
       "      <td>Sat</td>\n",
       "      <td>Dinner</td>\n",
       "      <td>2</td>\n",
       "      <td>8.91</td>\n",
       "      <td>Dennis Dixon</td>\n",
       "      <td>4375220550950</td>\n",
       "      <td>Sat17</td>\n",
       "    </tr>\n",
       "    <tr>\n",
       "      <th>243</th>\n",
       "      <td>18.78</td>\n",
       "      <td>3.00</td>\n",
       "      <td>Female</td>\n",
       "      <td>No</td>\n",
       "      <td>Thur</td>\n",
       "      <td>Dinner</td>\n",
       "      <td>2</td>\n",
       "      <td>9.39</td>\n",
       "      <td>Michelle Hardin</td>\n",
       "      <td>3511451626698139</td>\n",
       "      <td>Thur672</td>\n",
       "    </tr>\n",
       "  </tbody>\n",
       "</table>\n",
       "<p>244 rows × 11 columns</p>\n",
       "</div>"
      ],
      "text/plain": [
       "     total_bill   tip     sex smoker   day    time  size  price_per_person  \\\n",
       "0         16.99  1.01  Female     No   Sun  Dinner     2              8.49   \n",
       "1         10.34  1.66    Male     No   Sun  Dinner     3              3.45   \n",
       "2         21.01  3.50    Male     No   Sun  Dinner     3              7.00   \n",
       "3         23.68  3.31    Male     No   Sun  Dinner     2             11.84   \n",
       "4         24.59  3.61  Female     No   Sun  Dinner     4              6.15   \n",
       "..          ...   ...     ...    ...   ...     ...   ...               ...   \n",
       "239       29.03  5.92    Male     No   Sat  Dinner     3              9.68   \n",
       "240       27.18  2.00  Female    Yes   Sat  Dinner     2             13.59   \n",
       "241       22.67  2.00    Male    Yes   Sat  Dinner     2             11.34   \n",
       "242       17.82  1.75    Male     No   Sat  Dinner     2              8.91   \n",
       "243       18.78  3.00  Female     No  Thur  Dinner     2              9.39   \n",
       "\n",
       "             Payer Name         CC Number Payment ID  \n",
       "0    Christy Cunningham  3560325168603410    Sun2959  \n",
       "1        Douglas Tucker  4478071379779230    Sun4608  \n",
       "2        Travis Walters  6011812112971322    Sun4458  \n",
       "3      Nathaniel Harris  4676137647685994    Sun5260  \n",
       "4          Tonya Carter  4832732618637221    Sun2251  \n",
       "..                  ...               ...        ...  \n",
       "239       Michael Avila  5296068606052842    Sat2657  \n",
       "240      Monica Sanders  3506806155565404    Sat1766  \n",
       "241          Keith Wong  6011891618747196    Sat3880  \n",
       "242        Dennis Dixon     4375220550950      Sat17  \n",
       "243     Michelle Hardin  3511451626698139    Thur672  \n",
       "\n",
       "[244 rows x 11 columns]"
      ]
     },
     "execution_count": 16,
     "metadata": {},
     "output_type": "execute_result"
    }
   ],
   "source": [
    "df"
   ]
  },
  {
   "cell_type": "code",
   "execution_count": 17,
   "id": "1271fe4b",
   "metadata": {},
   "outputs": [
    {
     "data": {
      "text/plain": [
       "Index(['total_bill', 'tip', 'sex', 'smoker', 'day', 'time', 'size',\n",
       "       'price_per_person', 'Payer Name', 'CC Number', 'Payment ID'],\n",
       "      dtype='object')"
      ]
     },
     "execution_count": 17,
     "metadata": {},
     "output_type": "execute_result"
    }
   ],
   "source": [
    "df.columns\n"
   ]
  },
  {
   "cell_type": "code",
   "execution_count": 18,
   "id": "e0ef816e",
   "metadata": {},
   "outputs": [
    {
     "data": {
      "text/plain": [
       "RangeIndex(start=0, stop=244, step=1)"
      ]
     },
     "execution_count": 18,
     "metadata": {},
     "output_type": "execute_result"
    }
   ],
   "source": [
    "df.index"
   ]
  },
  {
   "cell_type": "code",
   "execution_count": 19,
   "id": "a62f0050",
   "metadata": {},
   "outputs": [
    {
     "name": "stdout",
     "output_type": "stream",
     "text": [
      "<class 'pandas.core.frame.DataFrame'>\n",
      "RangeIndex: 244 entries, 0 to 243\n",
      "Data columns (total 11 columns):\n",
      " #   Column            Non-Null Count  Dtype  \n",
      "---  ------            --------------  -----  \n",
      " 0   total_bill        244 non-null    float64\n",
      " 1   tip               244 non-null    float64\n",
      " 2   sex               244 non-null    object \n",
      " 3   smoker            244 non-null    object \n",
      " 4   day               244 non-null    object \n",
      " 5   time              244 non-null    object \n",
      " 6   size              244 non-null    int64  \n",
      " 7   price_per_person  244 non-null    float64\n",
      " 8   Payer Name        244 non-null    object \n",
      " 9   CC Number         244 non-null    int64  \n",
      " 10  Payment ID        244 non-null    object \n",
      "dtypes: float64(3), int64(2), object(6)\n",
      "memory usage: 21.1+ KB\n"
     ]
    }
   ],
   "source": [
    "df.head(10)\n",
    "df.tail(10)\n",
    "df.info()"
   ]
  },
  {
   "cell_type": "code",
   "execution_count": 20,
   "id": "c9f7b796",
   "metadata": {},
   "outputs": [
    {
     "data": {
      "text/html": [
       "<div>\n",
       "<style scoped>\n",
       "    .dataframe tbody tr th:only-of-type {\n",
       "        vertical-align: middle;\n",
       "    }\n",
       "\n",
       "    .dataframe tbody tr th {\n",
       "        vertical-align: top;\n",
       "    }\n",
       "\n",
       "    .dataframe thead th {\n",
       "        text-align: right;\n",
       "    }\n",
       "</style>\n",
       "<table border=\"1\" class=\"dataframe\">\n",
       "  <thead>\n",
       "    <tr style=\"text-align: right;\">\n",
       "      <th></th>\n",
       "      <th>count</th>\n",
       "      <th>mean</th>\n",
       "      <th>std</th>\n",
       "      <th>min</th>\n",
       "      <th>25%</th>\n",
       "      <th>50%</th>\n",
       "      <th>75%</th>\n",
       "      <th>max</th>\n",
       "    </tr>\n",
       "  </thead>\n",
       "  <tbody>\n",
       "    <tr>\n",
       "      <th>total_bill</th>\n",
       "      <td>244.0</td>\n",
       "      <td>1.978594e+01</td>\n",
       "      <td>8.902412e+00</td>\n",
       "      <td>3.070000e+00</td>\n",
       "      <td>1.334750e+01</td>\n",
       "      <td>1.779500e+01</td>\n",
       "      <td>2.412750e+01</td>\n",
       "      <td>5.081000e+01</td>\n",
       "    </tr>\n",
       "    <tr>\n",
       "      <th>tip</th>\n",
       "      <td>244.0</td>\n",
       "      <td>2.998279e+00</td>\n",
       "      <td>1.383638e+00</td>\n",
       "      <td>1.000000e+00</td>\n",
       "      <td>2.000000e+00</td>\n",
       "      <td>2.900000e+00</td>\n",
       "      <td>3.562500e+00</td>\n",
       "      <td>1.000000e+01</td>\n",
       "    </tr>\n",
       "    <tr>\n",
       "      <th>size</th>\n",
       "      <td>244.0</td>\n",
       "      <td>2.569672e+00</td>\n",
       "      <td>9.510998e-01</td>\n",
       "      <td>1.000000e+00</td>\n",
       "      <td>2.000000e+00</td>\n",
       "      <td>2.000000e+00</td>\n",
       "      <td>3.000000e+00</td>\n",
       "      <td>6.000000e+00</td>\n",
       "    </tr>\n",
       "    <tr>\n",
       "      <th>price_per_person</th>\n",
       "      <td>244.0</td>\n",
       "      <td>7.888197e+00</td>\n",
       "      <td>2.914234e+00</td>\n",
       "      <td>2.880000e+00</td>\n",
       "      <td>5.800000e+00</td>\n",
       "      <td>7.255000e+00</td>\n",
       "      <td>9.390000e+00</td>\n",
       "      <td>2.027000e+01</td>\n",
       "    </tr>\n",
       "    <tr>\n",
       "      <th>CC Number</th>\n",
       "      <td>244.0</td>\n",
       "      <td>2.563496e+15</td>\n",
       "      <td>2.369340e+15</td>\n",
       "      <td>6.040679e+10</td>\n",
       "      <td>3.040731e+13</td>\n",
       "      <td>3.525318e+15</td>\n",
       "      <td>4.553675e+15</td>\n",
       "      <td>6.596454e+15</td>\n",
       "    </tr>\n",
       "  </tbody>\n",
       "</table>\n",
       "</div>"
      ],
      "text/plain": [
       "                  count          mean           std           min  \\\n",
       "total_bill        244.0  1.978594e+01  8.902412e+00  3.070000e+00   \n",
       "tip               244.0  2.998279e+00  1.383638e+00  1.000000e+00   \n",
       "size              244.0  2.569672e+00  9.510998e-01  1.000000e+00   \n",
       "price_per_person  244.0  7.888197e+00  2.914234e+00  2.880000e+00   \n",
       "CC Number         244.0  2.563496e+15  2.369340e+15  6.040679e+10   \n",
       "\n",
       "                           25%           50%           75%           max  \n",
       "total_bill        1.334750e+01  1.779500e+01  2.412750e+01  5.081000e+01  \n",
       "tip               2.000000e+00  2.900000e+00  3.562500e+00  1.000000e+01  \n",
       "size              2.000000e+00  2.000000e+00  3.000000e+00  6.000000e+00  \n",
       "price_per_person  5.800000e+00  7.255000e+00  9.390000e+00  2.027000e+01  \n",
       "CC Number         3.040731e+13  3.525318e+15  4.553675e+15  6.596454e+15  "
      ]
     },
     "execution_count": 20,
     "metadata": {},
     "output_type": "execute_result"
    }
   ],
   "source": [
    "df.describe().transpose()"
   ]
  },
  {
   "cell_type": "code",
   "execution_count": 21,
   "id": "6d8eb014",
   "metadata": {},
   "outputs": [],
   "source": [
    "options=['sat','sun']"
   ]
  },
  {
   "cell_type": "code",
   "execution_count": 22,
   "id": "7de107a7",
   "metadata": {},
   "outputs": [
    {
     "data": {
      "text/plain": [
       "0      False\n",
       "1      False\n",
       "2      False\n",
       "3      False\n",
       "4      False\n",
       "       ...  \n",
       "239    False\n",
       "240    False\n",
       "241    False\n",
       "242    False\n",
       "243    False\n",
       "Name: day, Length: 244, dtype: bool"
      ]
     },
     "execution_count": 22,
     "metadata": {},
     "output_type": "execute_result"
    }
   ],
   "source": [
    "df['day'].isin(options)"
   ]
  },
  {
   "cell_type": "code",
   "execution_count": 23,
   "id": "fa564719",
   "metadata": {},
   "outputs": [],
   "source": [
    "def reverse_grab(num,len=4):\n",
    "    '''\n",
    "    pass an int to num\n",
    "    '''\n",
    "    return(str(num)[-len:])"
   ]
  },
  {
   "cell_type": "code",
   "execution_count": 24,
   "id": "c2bf0282",
   "metadata": {},
   "outputs": [
    {
     "data": {
      "text/plain": [
       "'6789'"
      ]
     },
     "execution_count": 24,
     "metadata": {},
     "output_type": "execute_result"
    }
   ],
   "source": [
    "reverse_grab(123456789)"
   ]
  },
  {
   "cell_type": "code",
   "execution_count": 25,
   "id": "451b23bb",
   "metadata": {},
   "outputs": [
    {
     "data": {
      "text/plain": [
       "0      3410\n",
       "1      9230\n",
       "2      1322\n",
       "3      5994\n",
       "4      7221\n",
       "       ... \n",
       "239    2842\n",
       "240    5404\n",
       "241    7196\n",
       "242    0950\n",
       "243    8139\n",
       "Name: CC Number, Length: 244, dtype: object"
      ]
     },
     "execution_count": 25,
     "metadata": {},
     "output_type": "execute_result"
    }
   ],
   "source": [
    "df[\"CC Number\"].apply(reverse_grab)"
   ]
  },
  {
   "cell_type": "code",
   "execution_count": 26,
   "id": "6ddc593f",
   "metadata": {},
   "outputs": [],
   "source": [
    "def Price(price):\n",
    "    if price < 10:\n",
    "        return '$'\n",
    "    elif price >= 10 and price < 30:\n",
    "        return '$$'\n",
    "    else:\n",
    "        return '$$$'"
   ]
  },
  {
   "cell_type": "code",
   "execution_count": 27,
   "id": "4b5de2d3",
   "metadata": {},
   "outputs": [
    {
     "data": {
      "text/plain": [
       "0      $$\n",
       "1      $$\n",
       "2      $$\n",
       "3      $$\n",
       "4      $$\n",
       "       ..\n",
       "239    $$\n",
       "240    $$\n",
       "241    $$\n",
       "242    $$\n",
       "243    $$\n",
       "Name: total_bill, Length: 244, dtype: object"
      ]
     },
     "execution_count": 27,
     "metadata": {},
     "output_type": "execute_result"
    }
   ],
   "source": [
    "df['total_bill'].apply(Price)"
   ]
  },
  {
   "cell_type": "code",
   "execution_count": 28,
   "id": "f2c547a1",
   "metadata": {},
   "outputs": [],
   "source": [
    "def quality(total,tip):\n",
    "    if tip/total>0.25:\n",
    "        return 'Generous'\n",
    "    else:\n",
    "        return \"Other\""
   ]
  },
  {
   "cell_type": "code",
   "execution_count": 29,
   "id": "ccc25b57",
   "metadata": {},
   "outputs": [],
   "source": [
    "one = df[[\"total_bill\",'tip']].apply(lambda df: quality(df['total_bill'],df['tip']),1)"
   ]
  },
  {
   "cell_type": "code",
   "execution_count": 30,
   "id": "5623eb63",
   "metadata": {},
   "outputs": [],
   "source": [
    "two=np.vectorize(quality)(df['total_bill'],df['tip'])"
   ]
  },
  {
   "cell_type": "code",
   "execution_count": 31,
   "id": "7aee0cb8",
   "metadata": {},
   "outputs": [
    {
     "data": {
      "text/plain": [
       "array(['Other', 'Other', 'Other', 'Other', 'Other', 'Other', 'Other',\n",
       "       'Other', 'Other', 'Other', 'Other', 'Other', 'Other', 'Other',\n",
       "       'Other', 'Other', 'Other', 'Other', 'Other', 'Other', 'Other',\n",
       "       'Other', 'Other', 'Other', 'Other', 'Other', 'Other', 'Other',\n",
       "       'Other', 'Other', 'Other', 'Other', 'Other', 'Other', 'Other',\n",
       "       'Other', 'Other', 'Other', 'Other', 'Other', 'Other', 'Other',\n",
       "       'Other', 'Other', 'Other', 'Other', 'Other', 'Other', 'Other',\n",
       "       'Other', 'Other', 'Generous', 'Other', 'Other', 'Other', 'Other',\n",
       "       'Other', 'Other', 'Other', 'Other', 'Other', 'Other', 'Other',\n",
       "       'Other', 'Other', 'Other', 'Other', 'Generous', 'Other', 'Other',\n",
       "       'Other', 'Other', 'Other', 'Other', 'Other', 'Other', 'Other',\n",
       "       'Other', 'Other', 'Other', 'Other', 'Other', 'Other', 'Other',\n",
       "       'Other', 'Other', 'Other', 'Other', 'Other', 'Other', 'Other',\n",
       "       'Other', 'Other', 'Generous', 'Other', 'Other', 'Other', 'Other',\n",
       "       'Other', 'Other', 'Other', 'Other', 'Other', 'Other', 'Other',\n",
       "       'Other', 'Other', 'Other', 'Other', 'Generous', 'Other', 'Other',\n",
       "       'Other', 'Other', 'Other', 'Other', 'Other', 'Other', 'Other',\n",
       "       'Other', 'Other', 'Other', 'Other', 'Other', 'Other', 'Other',\n",
       "       'Other', 'Other', 'Other', 'Other', 'Other', 'Other', 'Other',\n",
       "       'Other', 'Other', 'Other', 'Other', 'Other', 'Other', 'Other',\n",
       "       'Other', 'Other', 'Other', 'Other', 'Other', 'Other', 'Other',\n",
       "       'Other', 'Other', 'Generous', 'Other', 'Other', 'Other', 'Other',\n",
       "       'Other', 'Other', 'Other', 'Other', 'Other', 'Other', 'Other',\n",
       "       'Other', 'Other', 'Other', 'Other', 'Other', 'Other', 'Other',\n",
       "       'Other', 'Other', 'Other', 'Other', 'Generous', 'Other', 'Other',\n",
       "       'Other', 'Other', 'Other', 'Generous', 'Other', 'Other', 'Other',\n",
       "       'Other', 'Generous', 'Other', 'Other', 'Other', 'Other', 'Other',\n",
       "       'Other', 'Other', 'Other', 'Other', 'Other', 'Other', 'Other',\n",
       "       'Other', 'Other', 'Other', 'Other', 'Other', 'Other', 'Other',\n",
       "       'Other', 'Other', 'Other', 'Other', 'Other', 'Other', 'Other',\n",
       "       'Other', 'Other', 'Other', 'Other', 'Other', 'Other', 'Other',\n",
       "       'Other', 'Other', 'Other', 'Other', 'Generous', 'Other', 'Other',\n",
       "       'Other', 'Other', 'Other', 'Other', 'Other', 'Other', 'Other',\n",
       "       'Other', 'Generous', 'Other', 'Other', 'Other', 'Other', 'Other',\n",
       "       'Other', 'Other', 'Other', 'Other', 'Other', 'Other'], dtype='<U8')"
      ]
     },
     "execution_count": 31,
     "metadata": {},
     "output_type": "execute_result"
    }
   ],
   "source": [
    "two"
   ]
  },
  {
   "cell_type": "code",
   "execution_count": 32,
   "id": "7cdcb5bc",
   "metadata": {},
   "outputs": [
    {
     "data": {
      "text/plain": [
       "0      Other\n",
       "1      Other\n",
       "2      Other\n",
       "3      Other\n",
       "4      Other\n",
       "       ...  \n",
       "239    Other\n",
       "240    Other\n",
       "241    Other\n",
       "242    Other\n",
       "243    Other\n",
       "Length: 244, dtype: object"
      ]
     },
     "execution_count": 32,
     "metadata": {},
     "output_type": "execute_result"
    }
   ],
   "source": [
    "one"
   ]
  },
  {
   "cell_type": "code",
   "execution_count": 33,
   "id": "4b218362",
   "metadata": {},
   "outputs": [],
   "source": [
    "import timeit\n",
    "stup='''\n",
    "import pandas as pd\n",
    "import numpy as np\n",
    "df = pd.read_csv('tips.csv')\n",
    "def quality(total,tip):\n",
    "    if tip/total>0.25:\n",
    "        return 'Generous'\n",
    "    else:\n",
    "        return \"Other\"\n",
    "'''\n",
    "one = \"\"\"\n",
    "df['tip Quality']=df[[\"total_bill\",'tip']].apply(lambda df: quality(df['total_bill'],df['tip']),1)\n",
    "\"\"\"\n",
    "two=\"\"\"\n",
    "df['tip Quality']=np.vectorize(quality)(df['total_bill'],df['tip'])\n",
    "\"\"\""
   ]
  },
  {
   "cell_type": "code",
   "execution_count": null,
   "id": "2a71d5d3",
   "metadata": {
    "scrolled": true
   },
   "outputs": [],
   "source": [
    "timeit.timeit(setup=stup,stmt=one,number=1000)"
   ]
  },
  {
   "cell_type": "code",
   "execution_count": null,
   "id": "f5489bbb",
   "metadata": {},
   "outputs": [],
   "source": [
    "timeit.timeit(setup=stup,stmt=two,number=1000)"
   ]
  },
  {
   "cell_type": "code",
   "execution_count": 82,
   "id": "b091fe06",
   "metadata": {},
   "outputs": [],
   "source": [
    "df=pd.read_csv('tips.csv')"
   ]
  },
  {
   "cell_type": "code",
   "execution_count": 37,
   "id": "f3ab8cab",
   "metadata": {},
   "outputs": [
    {
     "data": {
      "text/html": [
       "<div>\n",
       "<style scoped>\n",
       "    .dataframe tbody tr th:only-of-type {\n",
       "        vertical-align: middle;\n",
       "    }\n",
       "\n",
       "    .dataframe tbody tr th {\n",
       "        vertical-align: top;\n",
       "    }\n",
       "\n",
       "    .dataframe thead th {\n",
       "        text-align: right;\n",
       "    }\n",
       "</style>\n",
       "<table border=\"1\" class=\"dataframe\">\n",
       "  <thead>\n",
       "    <tr style=\"text-align: right;\">\n",
       "      <th></th>\n",
       "      <th>total_bill</th>\n",
       "      <th>tip</th>\n",
       "      <th>sex</th>\n",
       "      <th>smoker</th>\n",
       "      <th>day</th>\n",
       "      <th>time</th>\n",
       "      <th>size</th>\n",
       "      <th>price_per_person</th>\n",
       "      <th>Payer Name</th>\n",
       "      <th>CC Number</th>\n",
       "      <th>Payment ID</th>\n",
       "    </tr>\n",
       "  </thead>\n",
       "  <tbody>\n",
       "    <tr>\n",
       "      <th>0</th>\n",
       "      <td>16.99</td>\n",
       "      <td>1.01</td>\n",
       "      <td>Female</td>\n",
       "      <td>No</td>\n",
       "      <td>Sun</td>\n",
       "      <td>Dinner</td>\n",
       "      <td>2</td>\n",
       "      <td>8.49</td>\n",
       "      <td>Christy Cunningham</td>\n",
       "      <td>3560325168603410</td>\n",
       "      <td>Sun2959</td>\n",
       "    </tr>\n",
       "    <tr>\n",
       "      <th>1</th>\n",
       "      <td>10.34</td>\n",
       "      <td>1.66</td>\n",
       "      <td>Male</td>\n",
       "      <td>No</td>\n",
       "      <td>Sun</td>\n",
       "      <td>Dinner</td>\n",
       "      <td>3</td>\n",
       "      <td>3.45</td>\n",
       "      <td>Douglas Tucker</td>\n",
       "      <td>4478071379779230</td>\n",
       "      <td>Sun4608</td>\n",
       "    </tr>\n",
       "    <tr>\n",
       "      <th>2</th>\n",
       "      <td>21.01</td>\n",
       "      <td>3.50</td>\n",
       "      <td>Male</td>\n",
       "      <td>No</td>\n",
       "      <td>Sun</td>\n",
       "      <td>Dinner</td>\n",
       "      <td>3</td>\n",
       "      <td>7.00</td>\n",
       "      <td>Travis Walters</td>\n",
       "      <td>6011812112971322</td>\n",
       "      <td>Sun4458</td>\n",
       "    </tr>\n",
       "    <tr>\n",
       "      <th>3</th>\n",
       "      <td>23.68</td>\n",
       "      <td>3.31</td>\n",
       "      <td>Male</td>\n",
       "      <td>No</td>\n",
       "      <td>Sun</td>\n",
       "      <td>Dinner</td>\n",
       "      <td>2</td>\n",
       "      <td>11.84</td>\n",
       "      <td>Nathaniel Harris</td>\n",
       "      <td>4676137647685994</td>\n",
       "      <td>Sun5260</td>\n",
       "    </tr>\n",
       "    <tr>\n",
       "      <th>4</th>\n",
       "      <td>24.59</td>\n",
       "      <td>3.61</td>\n",
       "      <td>Female</td>\n",
       "      <td>No</td>\n",
       "      <td>Sun</td>\n",
       "      <td>Dinner</td>\n",
       "      <td>4</td>\n",
       "      <td>6.15</td>\n",
       "      <td>Tonya Carter</td>\n",
       "      <td>4832732618637221</td>\n",
       "      <td>Sun2251</td>\n",
       "    </tr>\n",
       "    <tr>\n",
       "      <th>...</th>\n",
       "      <td>...</td>\n",
       "      <td>...</td>\n",
       "      <td>...</td>\n",
       "      <td>...</td>\n",
       "      <td>...</td>\n",
       "      <td>...</td>\n",
       "      <td>...</td>\n",
       "      <td>...</td>\n",
       "      <td>...</td>\n",
       "      <td>...</td>\n",
       "      <td>...</td>\n",
       "    </tr>\n",
       "    <tr>\n",
       "      <th>239</th>\n",
       "      <td>29.03</td>\n",
       "      <td>5.92</td>\n",
       "      <td>Male</td>\n",
       "      <td>No</td>\n",
       "      <td>Sat</td>\n",
       "      <td>Dinner</td>\n",
       "      <td>3</td>\n",
       "      <td>9.68</td>\n",
       "      <td>Michael Avila</td>\n",
       "      <td>5296068606052842</td>\n",
       "      <td>Sat2657</td>\n",
       "    </tr>\n",
       "    <tr>\n",
       "      <th>240</th>\n",
       "      <td>27.18</td>\n",
       "      <td>2.00</td>\n",
       "      <td>Female</td>\n",
       "      <td>Yes</td>\n",
       "      <td>Sat</td>\n",
       "      <td>Dinner</td>\n",
       "      <td>2</td>\n",
       "      <td>13.59</td>\n",
       "      <td>Monica Sanders</td>\n",
       "      <td>3506806155565404</td>\n",
       "      <td>Sat1766</td>\n",
       "    </tr>\n",
       "    <tr>\n",
       "      <th>241</th>\n",
       "      <td>22.67</td>\n",
       "      <td>2.00</td>\n",
       "      <td>Male</td>\n",
       "      <td>Yes</td>\n",
       "      <td>Sat</td>\n",
       "      <td>Dinner</td>\n",
       "      <td>2</td>\n",
       "      <td>11.34</td>\n",
       "      <td>Keith Wong</td>\n",
       "      <td>6011891618747196</td>\n",
       "      <td>Sat3880</td>\n",
       "    </tr>\n",
       "    <tr>\n",
       "      <th>242</th>\n",
       "      <td>17.82</td>\n",
       "      <td>1.75</td>\n",
       "      <td>Male</td>\n",
       "      <td>No</td>\n",
       "      <td>Sat</td>\n",
       "      <td>Dinner</td>\n",
       "      <td>2</td>\n",
       "      <td>8.91</td>\n",
       "      <td>Dennis Dixon</td>\n",
       "      <td>4375220550950</td>\n",
       "      <td>Sat17</td>\n",
       "    </tr>\n",
       "    <tr>\n",
       "      <th>243</th>\n",
       "      <td>18.78</td>\n",
       "      <td>3.00</td>\n",
       "      <td>Female</td>\n",
       "      <td>No</td>\n",
       "      <td>Thur</td>\n",
       "      <td>Dinner</td>\n",
       "      <td>2</td>\n",
       "      <td>9.39</td>\n",
       "      <td>Michelle Hardin</td>\n",
       "      <td>3511451626698139</td>\n",
       "      <td>Thur672</td>\n",
       "    </tr>\n",
       "  </tbody>\n",
       "</table>\n",
       "<p>244 rows × 11 columns</p>\n",
       "</div>"
      ],
      "text/plain": [
       "     total_bill   tip     sex smoker   day    time  size  price_per_person  \\\n",
       "0         16.99  1.01  Female     No   Sun  Dinner     2              8.49   \n",
       "1         10.34  1.66    Male     No   Sun  Dinner     3              3.45   \n",
       "2         21.01  3.50    Male     No   Sun  Dinner     3              7.00   \n",
       "3         23.68  3.31    Male     No   Sun  Dinner     2             11.84   \n",
       "4         24.59  3.61  Female     No   Sun  Dinner     4              6.15   \n",
       "..          ...   ...     ...    ...   ...     ...   ...               ...   \n",
       "239       29.03  5.92    Male     No   Sat  Dinner     3              9.68   \n",
       "240       27.18  2.00  Female    Yes   Sat  Dinner     2             13.59   \n",
       "241       22.67  2.00    Male    Yes   Sat  Dinner     2             11.34   \n",
       "242       17.82  1.75    Male     No   Sat  Dinner     2              8.91   \n",
       "243       18.78  3.00  Female     No  Thur  Dinner     2              9.39   \n",
       "\n",
       "             Payer Name         CC Number Payment ID  \n",
       "0    Christy Cunningham  3560325168603410    Sun2959  \n",
       "1        Douglas Tucker  4478071379779230    Sun4608  \n",
       "2        Travis Walters  6011812112971322    Sun4458  \n",
       "3      Nathaniel Harris  4676137647685994    Sun5260  \n",
       "4          Tonya Carter  4832732618637221    Sun2251  \n",
       "..                  ...               ...        ...  \n",
       "239       Michael Avila  5296068606052842    Sat2657  \n",
       "240      Monica Sanders  3506806155565404    Sat1766  \n",
       "241          Keith Wong  6011891618747196    Sat3880  \n",
       "242        Dennis Dixon     4375220550950      Sat17  \n",
       "243     Michelle Hardin  3511451626698139    Thur672  \n",
       "\n",
       "[244 rows x 11 columns]"
      ]
     },
     "execution_count": 37,
     "metadata": {},
     "output_type": "execute_result"
    }
   ],
   "source": [
    "df"
   ]
  },
  {
   "cell_type": "code",
   "execution_count": 38,
   "id": "bfb97fd7",
   "metadata": {},
   "outputs": [],
   "source": [
    "reg=pd.DataFrame({\"reg_id\":[1,2,3,4],\n",
    "              'name':['sani','ahmed','Nuruddeen','nura']})\n",
    "log=pd.DataFrame({\"login_id\":[1,2,3,4],\n",
    "              'name':['Nuruddeen','nura','mohammed','jalingo']})"
   ]
  },
  {
   "cell_type": "code",
   "execution_count": 39,
   "id": "85e0cc0d",
   "metadata": {},
   "outputs": [
    {
     "data": {
      "text/html": [
       "<div>\n",
       "<style scoped>\n",
       "    .dataframe tbody tr th:only-of-type {\n",
       "        vertical-align: middle;\n",
       "    }\n",
       "\n",
       "    .dataframe tbody tr th {\n",
       "        vertical-align: top;\n",
       "    }\n",
       "\n",
       "    .dataframe thead th {\n",
       "        text-align: right;\n",
       "    }\n",
       "</style>\n",
       "<table border=\"1\" class=\"dataframe\">\n",
       "  <thead>\n",
       "    <tr style=\"text-align: right;\">\n",
       "      <th></th>\n",
       "      <th>reg_id</th>\n",
       "      <th>name</th>\n",
       "    </tr>\n",
       "  </thead>\n",
       "  <tbody>\n",
       "    <tr>\n",
       "      <th>0</th>\n",
       "      <td>1</td>\n",
       "      <td>sani</td>\n",
       "    </tr>\n",
       "    <tr>\n",
       "      <th>1</th>\n",
       "      <td>2</td>\n",
       "      <td>ahmed</td>\n",
       "    </tr>\n",
       "    <tr>\n",
       "      <th>2</th>\n",
       "      <td>3</td>\n",
       "      <td>Nuruddeen</td>\n",
       "    </tr>\n",
       "    <tr>\n",
       "      <th>3</th>\n",
       "      <td>4</td>\n",
       "      <td>nura</td>\n",
       "    </tr>\n",
       "  </tbody>\n",
       "</table>\n",
       "</div>"
      ],
      "text/plain": [
       "   reg_id       name\n",
       "0       1       sani\n",
       "1       2      ahmed\n",
       "2       3  Nuruddeen\n",
       "3       4       nura"
      ]
     },
     "execution_count": 39,
     "metadata": {},
     "output_type": "execute_result"
    }
   ],
   "source": [
    "reg"
   ]
  },
  {
   "cell_type": "code",
   "execution_count": 40,
   "id": "2b73ba7a",
   "metadata": {},
   "outputs": [
    {
     "data": {
      "text/html": [
       "<div>\n",
       "<style scoped>\n",
       "    .dataframe tbody tr th:only-of-type {\n",
       "        vertical-align: middle;\n",
       "    }\n",
       "\n",
       "    .dataframe tbody tr th {\n",
       "        vertical-align: top;\n",
       "    }\n",
       "\n",
       "    .dataframe thead th {\n",
       "        text-align: right;\n",
       "    }\n",
       "</style>\n",
       "<table border=\"1\" class=\"dataframe\">\n",
       "  <thead>\n",
       "    <tr style=\"text-align: right;\">\n",
       "      <th></th>\n",
       "      <th>login_id</th>\n",
       "      <th>name</th>\n",
       "    </tr>\n",
       "  </thead>\n",
       "  <tbody>\n",
       "    <tr>\n",
       "      <th>0</th>\n",
       "      <td>1</td>\n",
       "      <td>Nuruddeen</td>\n",
       "    </tr>\n",
       "    <tr>\n",
       "      <th>1</th>\n",
       "      <td>2</td>\n",
       "      <td>nura</td>\n",
       "    </tr>\n",
       "    <tr>\n",
       "      <th>2</th>\n",
       "      <td>3</td>\n",
       "      <td>mohammed</td>\n",
       "    </tr>\n",
       "    <tr>\n",
       "      <th>3</th>\n",
       "      <td>4</td>\n",
       "      <td>jalingo</td>\n",
       "    </tr>\n",
       "  </tbody>\n",
       "</table>\n",
       "</div>"
      ],
      "text/plain": [
       "   login_id       name\n",
       "0         1  Nuruddeen\n",
       "1         2       nura\n",
       "2         3   mohammed\n",
       "3         4    jalingo"
      ]
     },
     "execution_count": 40,
     "metadata": {},
     "output_type": "execute_result"
    }
   ],
   "source": [
    "log"
   ]
  },
  {
   "cell_type": "code",
   "execution_count": 41,
   "id": "6993c101",
   "metadata": {},
   "outputs": [
    {
     "data": {
      "text/html": [
       "<div>\n",
       "<style scoped>\n",
       "    .dataframe tbody tr th:only-of-type {\n",
       "        vertical-align: middle;\n",
       "    }\n",
       "\n",
       "    .dataframe tbody tr th {\n",
       "        vertical-align: top;\n",
       "    }\n",
       "\n",
       "    .dataframe thead th {\n",
       "        text-align: right;\n",
       "    }\n",
       "</style>\n",
       "<table border=\"1\" class=\"dataframe\">\n",
       "  <thead>\n",
       "    <tr style=\"text-align: right;\">\n",
       "      <th></th>\n",
       "      <th>reg_id</th>\n",
       "      <th>name</th>\n",
       "      <th>login_id</th>\n",
       "    </tr>\n",
       "  </thead>\n",
       "  <tbody>\n",
       "    <tr>\n",
       "      <th>0</th>\n",
       "      <td>3</td>\n",
       "      <td>Nuruddeen</td>\n",
       "      <td>1</td>\n",
       "    </tr>\n",
       "    <tr>\n",
       "      <th>1</th>\n",
       "      <td>4</td>\n",
       "      <td>nura</td>\n",
       "      <td>2</td>\n",
       "    </tr>\n",
       "  </tbody>\n",
       "</table>\n",
       "</div>"
      ],
      "text/plain": [
       "   reg_id       name  login_id\n",
       "0       3  Nuruddeen         1\n",
       "1       4       nura         2"
      ]
     },
     "execution_count": 41,
     "metadata": {},
     "output_type": "execute_result"
    }
   ],
   "source": [
    "pd.merge(reg,log)"
   ]
  },
  {
   "cell_type": "code",
   "execution_count": 42,
   "id": "473cd9a6",
   "metadata": {},
   "outputs": [
    {
     "data": {
      "text/html": [
       "<div>\n",
       "<style scoped>\n",
       "    .dataframe tbody tr th:only-of-type {\n",
       "        vertical-align: middle;\n",
       "    }\n",
       "\n",
       "    .dataframe tbody tr th {\n",
       "        vertical-align: top;\n",
       "    }\n",
       "\n",
       "    .dataframe thead th {\n",
       "        text-align: right;\n",
       "    }\n",
       "</style>\n",
       "<table border=\"1\" class=\"dataframe\">\n",
       "  <thead>\n",
       "    <tr style=\"text-align: right;\">\n",
       "      <th></th>\n",
       "      <th>reg_id</th>\n",
       "      <th>name</th>\n",
       "      <th>login_id</th>\n",
       "    </tr>\n",
       "  </thead>\n",
       "  <tbody>\n",
       "    <tr>\n",
       "      <th>0</th>\n",
       "      <td>1</td>\n",
       "      <td>sani</td>\n",
       "      <td>NaN</td>\n",
       "    </tr>\n",
       "    <tr>\n",
       "      <th>1</th>\n",
       "      <td>2</td>\n",
       "      <td>ahmed</td>\n",
       "      <td>NaN</td>\n",
       "    </tr>\n",
       "    <tr>\n",
       "      <th>2</th>\n",
       "      <td>3</td>\n",
       "      <td>Nuruddeen</td>\n",
       "      <td>1.0</td>\n",
       "    </tr>\n",
       "    <tr>\n",
       "      <th>3</th>\n",
       "      <td>4</td>\n",
       "      <td>nura</td>\n",
       "      <td>2.0</td>\n",
       "    </tr>\n",
       "  </tbody>\n",
       "</table>\n",
       "</div>"
      ],
      "text/plain": [
       "   reg_id       name  login_id\n",
       "0       1       sani       NaN\n",
       "1       2      ahmed       NaN\n",
       "2       3  Nuruddeen       1.0\n",
       "3       4       nura       2.0"
      ]
     },
     "execution_count": 42,
     "metadata": {},
     "output_type": "execute_result"
    }
   ],
   "source": [
    "pd.merge(left=reg,right=log,how='left',on='name')"
   ]
  },
  {
   "cell_type": "code",
   "execution_count": 43,
   "id": "09b78da5",
   "metadata": {},
   "outputs": [
    {
     "data": {
      "text/html": [
       "<div>\n",
       "<style scoped>\n",
       "    .dataframe tbody tr th:only-of-type {\n",
       "        vertical-align: middle;\n",
       "    }\n",
       "\n",
       "    .dataframe tbody tr th {\n",
       "        vertical-align: top;\n",
       "    }\n",
       "\n",
       "    .dataframe thead th {\n",
       "        text-align: right;\n",
       "    }\n",
       "</style>\n",
       "<table border=\"1\" class=\"dataframe\">\n",
       "  <thead>\n",
       "    <tr style=\"text-align: right;\">\n",
       "      <th></th>\n",
       "      <th>reg_id</th>\n",
       "      <th>name</th>\n",
       "      <th>login_id</th>\n",
       "    </tr>\n",
       "  </thead>\n",
       "  <tbody>\n",
       "    <tr>\n",
       "      <th>0</th>\n",
       "      <td>3.0</td>\n",
       "      <td>Nuruddeen</td>\n",
       "      <td>1</td>\n",
       "    </tr>\n",
       "    <tr>\n",
       "      <th>1</th>\n",
       "      <td>4.0</td>\n",
       "      <td>nura</td>\n",
       "      <td>2</td>\n",
       "    </tr>\n",
       "    <tr>\n",
       "      <th>2</th>\n",
       "      <td>NaN</td>\n",
       "      <td>mohammed</td>\n",
       "      <td>3</td>\n",
       "    </tr>\n",
       "    <tr>\n",
       "      <th>3</th>\n",
       "      <td>NaN</td>\n",
       "      <td>jalingo</td>\n",
       "      <td>4</td>\n",
       "    </tr>\n",
       "  </tbody>\n",
       "</table>\n",
       "</div>"
      ],
      "text/plain": [
       "   reg_id       name  login_id\n",
       "0     3.0  Nuruddeen         1\n",
       "1     4.0       nura         2\n",
       "2     NaN   mohammed         3\n",
       "3     NaN    jalingo         4"
      ]
     },
     "execution_count": 43,
     "metadata": {},
     "output_type": "execute_result"
    }
   ],
   "source": [
    "pd.merge(left=reg,right=log,how='right',on='name')"
   ]
  },
  {
   "cell_type": "code",
   "execution_count": 44,
   "id": "17664d5f",
   "metadata": {},
   "outputs": [
    {
     "data": {
      "text/html": [
       "<div>\n",
       "<style scoped>\n",
       "    .dataframe tbody tr th:only-of-type {\n",
       "        vertical-align: middle;\n",
       "    }\n",
       "\n",
       "    .dataframe tbody tr th {\n",
       "        vertical-align: top;\n",
       "    }\n",
       "\n",
       "    .dataframe thead th {\n",
       "        text-align: right;\n",
       "    }\n",
       "</style>\n",
       "<table border=\"1\" class=\"dataframe\">\n",
       "  <thead>\n",
       "    <tr style=\"text-align: right;\">\n",
       "      <th></th>\n",
       "      <th>reg_id</th>\n",
       "      <th>name</th>\n",
       "      <th>login_id</th>\n",
       "    </tr>\n",
       "  </thead>\n",
       "  <tbody>\n",
       "    <tr>\n",
       "      <th>0</th>\n",
       "      <td>1.0</td>\n",
       "      <td>sani</td>\n",
       "      <td>NaN</td>\n",
       "    </tr>\n",
       "    <tr>\n",
       "      <th>1</th>\n",
       "      <td>2.0</td>\n",
       "      <td>ahmed</td>\n",
       "      <td>NaN</td>\n",
       "    </tr>\n",
       "    <tr>\n",
       "      <th>2</th>\n",
       "      <td>3.0</td>\n",
       "      <td>Nuruddeen</td>\n",
       "      <td>1.0</td>\n",
       "    </tr>\n",
       "    <tr>\n",
       "      <th>3</th>\n",
       "      <td>4.0</td>\n",
       "      <td>nura</td>\n",
       "      <td>2.0</td>\n",
       "    </tr>\n",
       "    <tr>\n",
       "      <th>4</th>\n",
       "      <td>NaN</td>\n",
       "      <td>mohammed</td>\n",
       "      <td>3.0</td>\n",
       "    </tr>\n",
       "    <tr>\n",
       "      <th>5</th>\n",
       "      <td>NaN</td>\n",
       "      <td>jalingo</td>\n",
       "      <td>4.0</td>\n",
       "    </tr>\n",
       "  </tbody>\n",
       "</table>\n",
       "</div>"
      ],
      "text/plain": [
       "   reg_id       name  login_id\n",
       "0     1.0       sani       NaN\n",
       "1     2.0      ahmed       NaN\n",
       "2     3.0  Nuruddeen       1.0\n",
       "3     4.0       nura       2.0\n",
       "4     NaN   mohammed       3.0\n",
       "5     NaN    jalingo       4.0"
      ]
     },
     "execution_count": 44,
     "metadata": {},
     "output_type": "execute_result"
    }
   ],
   "source": [
    "pd.merge(left=reg,right=log,how='outer',on='name')"
   ]
  },
  {
   "cell_type": "code",
   "execution_count": 45,
   "id": "c7958e35",
   "metadata": {},
   "outputs": [],
   "source": [
    "reg=reg.set_index('name')"
   ]
  },
  {
   "cell_type": "code",
   "execution_count": 46,
   "id": "40cdfc97",
   "metadata": {},
   "outputs": [
    {
     "data": {
      "text/html": [
       "<div>\n",
       "<style scoped>\n",
       "    .dataframe tbody tr th:only-of-type {\n",
       "        vertical-align: middle;\n",
       "    }\n",
       "\n",
       "    .dataframe tbody tr th {\n",
       "        vertical-align: top;\n",
       "    }\n",
       "\n",
       "    .dataframe thead th {\n",
       "        text-align: right;\n",
       "    }\n",
       "</style>\n",
       "<table border=\"1\" class=\"dataframe\">\n",
       "  <thead>\n",
       "    <tr style=\"text-align: right;\">\n",
       "      <th></th>\n",
       "      <th>reg_id</th>\n",
       "    </tr>\n",
       "    <tr>\n",
       "      <th>name</th>\n",
       "      <th></th>\n",
       "    </tr>\n",
       "  </thead>\n",
       "  <tbody>\n",
       "    <tr>\n",
       "      <th>sani</th>\n",
       "      <td>1</td>\n",
       "    </tr>\n",
       "    <tr>\n",
       "      <th>ahmed</th>\n",
       "      <td>2</td>\n",
       "    </tr>\n",
       "    <tr>\n",
       "      <th>Nuruddeen</th>\n",
       "      <td>3</td>\n",
       "    </tr>\n",
       "    <tr>\n",
       "      <th>nura</th>\n",
       "      <td>4</td>\n",
       "    </tr>\n",
       "  </tbody>\n",
       "</table>\n",
       "</div>"
      ],
      "text/plain": [
       "           reg_id\n",
       "name             \n",
       "sani            1\n",
       "ahmed           2\n",
       "Nuruddeen       3\n",
       "nura            4"
      ]
     },
     "execution_count": 46,
     "metadata": {},
     "output_type": "execute_result"
    }
   ],
   "source": [
    "reg"
   ]
  },
  {
   "cell_type": "code",
   "execution_count": 47,
   "id": "8e4b38f2",
   "metadata": {},
   "outputs": [
    {
     "data": {
      "text/html": [
       "<div>\n",
       "<style scoped>\n",
       "    .dataframe tbody tr th:only-of-type {\n",
       "        vertical-align: middle;\n",
       "    }\n",
       "\n",
       "    .dataframe tbody tr th {\n",
       "        vertical-align: top;\n",
       "    }\n",
       "\n",
       "    .dataframe thead th {\n",
       "        text-align: right;\n",
       "    }\n",
       "</style>\n",
       "<table border=\"1\" class=\"dataframe\">\n",
       "  <thead>\n",
       "    <tr style=\"text-align: right;\">\n",
       "      <th></th>\n",
       "      <th>name</th>\n",
       "      <th>reg_id</th>\n",
       "      <th>login_id</th>\n",
       "    </tr>\n",
       "  </thead>\n",
       "  <tbody>\n",
       "    <tr>\n",
       "      <th>0</th>\n",
       "      <td>Nuruddeen</td>\n",
       "      <td>3.0</td>\n",
       "      <td>1</td>\n",
       "    </tr>\n",
       "    <tr>\n",
       "      <th>1</th>\n",
       "      <td>nura</td>\n",
       "      <td>4.0</td>\n",
       "      <td>2</td>\n",
       "    </tr>\n",
       "    <tr>\n",
       "      <th>2</th>\n",
       "      <td>mohammed</td>\n",
       "      <td>NaN</td>\n",
       "      <td>3</td>\n",
       "    </tr>\n",
       "    <tr>\n",
       "      <th>3</th>\n",
       "      <td>jalingo</td>\n",
       "      <td>NaN</td>\n",
       "      <td>4</td>\n",
       "    </tr>\n",
       "  </tbody>\n",
       "</table>\n",
       "</div>"
      ],
      "text/plain": [
       "        name  reg_id  login_id\n",
       "0  Nuruddeen     3.0         1\n",
       "1       nura     4.0         2\n",
       "2   mohammed     NaN         3\n",
       "3    jalingo     NaN         4"
      ]
     },
     "execution_count": 47,
     "metadata": {},
     "output_type": "execute_result"
    }
   ],
   "source": [
    "pd.merge(left=reg,right=log,how='right',on='name')"
   ]
  },
  {
   "cell_type": "code",
   "execution_count": 48,
   "id": "d8e05431",
   "metadata": {},
   "outputs": [
    {
     "data": {
      "text/html": [
       "<div>\n",
       "<style scoped>\n",
       "    .dataframe tbody tr th:only-of-type {\n",
       "        vertical-align: middle;\n",
       "    }\n",
       "\n",
       "    .dataframe tbody tr th {\n",
       "        vertical-align: top;\n",
       "    }\n",
       "\n",
       "    .dataframe thead th {\n",
       "        text-align: right;\n",
       "    }\n",
       "</style>\n",
       "<table border=\"1\" class=\"dataframe\">\n",
       "  <thead>\n",
       "    <tr style=\"text-align: right;\">\n",
       "      <th></th>\n",
       "      <th>reg_id</th>\n",
       "      <th>login_id</th>\n",
       "      <th>name</th>\n",
       "    </tr>\n",
       "  </thead>\n",
       "  <tbody>\n",
       "    <tr>\n",
       "      <th>0</th>\n",
       "      <td>3</td>\n",
       "      <td>1</td>\n",
       "      <td>Nuruddeen</td>\n",
       "    </tr>\n",
       "    <tr>\n",
       "      <th>1</th>\n",
       "      <td>4</td>\n",
       "      <td>2</td>\n",
       "      <td>nura</td>\n",
       "    </tr>\n",
       "  </tbody>\n",
       "</table>\n",
       "</div>"
      ],
      "text/plain": [
       "   reg_id  login_id       name\n",
       "0       3         1  Nuruddeen\n",
       "1       4         2       nura"
      ]
     },
     "execution_count": 48,
     "metadata": {},
     "output_type": "execute_result"
    }
   ],
   "source": [
    "pd.merge(reg,log,left_index=True,right_on='name',how='inner')"
   ]
  },
  {
   "cell_type": "code",
   "execution_count": 49,
   "id": "d0dc2623",
   "metadata": {},
   "outputs": [],
   "source": [
    "reg=reg.reset_index()"
   ]
  },
  {
   "cell_type": "code",
   "execution_count": 50,
   "id": "3ec9af68",
   "metadata": {},
   "outputs": [
    {
     "data": {
      "text/html": [
       "<div>\n",
       "<style scoped>\n",
       "    .dataframe tbody tr th:only-of-type {\n",
       "        vertical-align: middle;\n",
       "    }\n",
       "\n",
       "    .dataframe tbody tr th {\n",
       "        vertical-align: top;\n",
       "    }\n",
       "\n",
       "    .dataframe thead th {\n",
       "        text-align: right;\n",
       "    }\n",
       "</style>\n",
       "<table border=\"1\" class=\"dataframe\">\n",
       "  <thead>\n",
       "    <tr style=\"text-align: right;\">\n",
       "      <th></th>\n",
       "      <th>name</th>\n",
       "      <th>reg_id</th>\n",
       "    </tr>\n",
       "  </thead>\n",
       "  <tbody>\n",
       "    <tr>\n",
       "      <th>0</th>\n",
       "      <td>sani</td>\n",
       "      <td>1</td>\n",
       "    </tr>\n",
       "    <tr>\n",
       "      <th>1</th>\n",
       "      <td>ahmed</td>\n",
       "      <td>2</td>\n",
       "    </tr>\n",
       "    <tr>\n",
       "      <th>2</th>\n",
       "      <td>Nuruddeen</td>\n",
       "      <td>3</td>\n",
       "    </tr>\n",
       "    <tr>\n",
       "      <th>3</th>\n",
       "      <td>nura</td>\n",
       "      <td>4</td>\n",
       "    </tr>\n",
       "  </tbody>\n",
       "</table>\n",
       "</div>"
      ],
      "text/plain": [
       "        name  reg_id\n",
       "0       sani       1\n",
       "1      ahmed       2\n",
       "2  Nuruddeen       3\n",
       "3       nura       4"
      ]
     },
     "execution_count": 50,
     "metadata": {},
     "output_type": "execute_result"
    }
   ],
   "source": [
    "reg"
   ]
  },
  {
   "cell_type": "code",
   "execution_count": 51,
   "id": "1fbf8c05",
   "metadata": {},
   "outputs": [
    {
     "data": {
      "text/html": [
       "<div>\n",
       "<style scoped>\n",
       "    .dataframe tbody tr th:only-of-type {\n",
       "        vertical-align: middle;\n",
       "    }\n",
       "\n",
       "    .dataframe tbody tr th {\n",
       "        vertical-align: top;\n",
       "    }\n",
       "\n",
       "    .dataframe thead th {\n",
       "        text-align: right;\n",
       "    }\n",
       "</style>\n",
       "<table border=\"1\" class=\"dataframe\">\n",
       "  <thead>\n",
       "    <tr style=\"text-align: right;\">\n",
       "      <th></th>\n",
       "      <th>a</th>\n",
       "      <th>b</th>\n",
       "      <th>c</th>\n",
       "      <th>d</th>\n",
       "    </tr>\n",
       "  </thead>\n",
       "  <tbody>\n",
       "    <tr>\n",
       "      <th>0</th>\n",
       "      <td>0</td>\n",
       "      <td>1</td>\n",
       "      <td>2</td>\n",
       "      <td>3</td>\n",
       "    </tr>\n",
       "    <tr>\n",
       "      <th>1</th>\n",
       "      <td>4</td>\n",
       "      <td>5</td>\n",
       "      <td>6</td>\n",
       "      <td>7</td>\n",
       "    </tr>\n",
       "    <tr>\n",
       "      <th>2</th>\n",
       "      <td>8</td>\n",
       "      <td>9</td>\n",
       "      <td>10</td>\n",
       "      <td>11</td>\n",
       "    </tr>\n",
       "    <tr>\n",
       "      <th>3</th>\n",
       "      <td>12</td>\n",
       "      <td>13</td>\n",
       "      <td>14</td>\n",
       "      <td>15</td>\n",
       "    </tr>\n",
       "  </tbody>\n",
       "</table>\n",
       "</div>"
      ],
      "text/plain": [
       "    a   b   c   d\n",
       "0   0   1   2   3\n",
       "1   4   5   6   7\n",
       "2   8   9  10  11\n",
       "3  12  13  14  15"
      ]
     },
     "execution_count": 51,
     "metadata": {},
     "output_type": "execute_result"
    }
   ],
   "source": [
    "pd.read_csv('example.csv')"
   ]
  },
  {
   "cell_type": "code",
   "execution_count": 52,
   "id": "36c5e33f",
   "metadata": {},
   "outputs": [],
   "source": [
    "import pandas as pd"
   ]
  },
  {
   "cell_type": "code",
   "execution_count": 53,
   "id": "3672575f",
   "metadata": {},
   "outputs": [],
   "source": [
    "url = 'https://en.wikipedia.org/wiki/World_population'"
   ]
  },
  {
   "cell_type": "code",
   "execution_count": 55,
   "id": "c1796716",
   "metadata": {},
   "outputs": [],
   "source": [
    "tables = pd.read_html(url)"
   ]
  },
  {
   "cell_type": "code",
   "execution_count": null,
   "id": "8b8bdfb1",
   "metadata": {},
   "outputs": [],
   "source": [
    "len(tables)"
   ]
  },
  {
   "cell_type": "code",
   "execution_count": null,
   "id": "614a517a",
   "metadata": {},
   "outputs": [],
   "source": [
    "tables[0]"
   ]
  },
  {
   "cell_type": "code",
   "execution_count": null,
   "id": "944dc5a4",
   "metadata": {},
   "outputs": [],
   "source": [
    "wtp = tables[1]"
   ]
  },
  {
   "cell_type": "code",
   "execution_count": null,
   "id": "27031e55",
   "metadata": {},
   "outputs": [],
   "source": [
    "wtp"
   ]
  },
  {
   "cell_type": "code",
   "execution_count": null,
   "id": "1baab1e2",
   "metadata": {},
   "outputs": [],
   "source": [
    "wtp = wtp.drop(11,axis=0)\n",
    "wtp = wtp.drop('#',axis=1)\n",
    "wtp.columns = ['Country','2000','2015','2030 Est.']"
   ]
  },
  {
   "cell_type": "code",
   "execution_count": null,
   "id": "182c2113",
   "metadata": {},
   "outputs": [],
   "source": [
    "tables[5].set_index('Rank')"
   ]
  },
  {
   "cell_type": "code",
   "execution_count": null,
   "id": "6d69e5c5",
   "metadata": {},
   "outputs": [],
   "source": [
    "wtp.to_html('testing_html.html',index=False)"
   ]
  },
  {
   "cell_type": "code",
   "execution_count": null,
   "id": "38da158c",
   "metadata": {},
   "outputs": [],
   "source": [
    "pd.read_excel('my_excel_file.xlsx',sheet_name='First_Sheet')"
   ]
  },
  {
   "cell_type": "code",
   "execution_count": null,
   "id": "1b1d40c4",
   "metadata": {},
   "outputs": [],
   "source": [
    "wb = pd.ExcelFile('my_excel_file.xlsx')\n",
    "wb.sheet_names"
   ]
  },
  {
   "cell_type": "code",
   "execution_count": null,
   "id": "7875e15a",
   "metadata": {},
   "outputs": [],
   "source": [
    "esd = pd.read_excel('my_excel_file.xlsx',sheet_name=None)"
   ]
  },
  {
   "cell_type": "code",
   "execution_count": null,
   "id": "a6d52c18",
   "metadata": {},
   "outputs": [],
   "source": [
    "type(esd)\n",
    "esd.keys()"
   ]
  },
  {
   "cell_type": "code",
   "execution_count": null,
   "id": "e94d90d1",
   "metadata": {},
   "outputs": [],
   "source": [
    "esd"
   ]
  },
  {
   "cell_type": "code",
   "execution_count": null,
   "id": "907edb61",
   "metadata": {},
   "outputs": [],
   "source": [
    "import pandas as pd\n",
    "import numpy as np\n",
    "from sqlalchemy import create_engine"
   ]
  },
  {
   "cell_type": "code",
   "execution_count": null,
   "id": "cb577b83",
   "metadata": {},
   "outputs": [],
   "source": [
    "temp_db = create_engine('sqlite:///:memory:')"
   ]
  },
  {
   "cell_type": "code",
   "execution_count": null,
   "id": "3a16668e",
   "metadata": {},
   "outputs": [],
   "source": [
    "df = pd.DataFrame(data=np.random.randint(low=0,high=100,size=(4,4)),columns=['a','b','c','d'])\n",
    "df"
   ]
  },
  {
   "cell_type": "code",
   "execution_count": null,
   "id": "bbe6e113",
   "metadata": {},
   "outputs": [],
   "source": [
    "df.to_sql(name='New_table',con=temp_db,index=False)"
   ]
  },
  {
   "cell_type": "code",
   "execution_count": null,
   "id": "cb9b277c",
   "metadata": {},
   "outputs": [],
   "source": [
    "print(bool(0))"
   ]
  },
  {
   "cell_type": "code",
   "execution_count": null,
   "id": "33f0743b",
   "metadata": {},
   "outputs": [],
   "source": [
    "print(bool('0'))"
   ]
  },
  {
   "cell_type": "code",
   "execution_count": null,
   "id": "6a9d90e6",
   "metadata": {},
   "outputs": [],
   "source": [
    "pd.read_sql(sql='New_table',con=temp_db)"
   ]
  },
  {
   "cell_type": "code",
   "execution_count": null,
   "id": "01466245",
   "metadata": {},
   "outputs": [],
   "source": [
    "num1=int(input('enter starting number: '))\n",
    "num2=int(input('enter stoping number: '))"
   ]
  },
  {
   "cell_type": "code",
   "execution_count": null,
   "id": "a217b392",
   "metadata": {},
   "outputs": [],
   "source": [
    "amina(num1,num2)"
   ]
  },
  {
   "cell_type": "code",
   "execution_count": null,
   "id": "82ff2d22",
   "metadata": {},
   "outputs": [],
   "source": [
    "for i in range(a,b+1)"
   ]
  }
 ],
 "metadata": {
  "kernelspec": {
   "display_name": "Python 3 (ipykernel)",
   "language": "python",
   "name": "python3"
  },
  "language_info": {
   "codemirror_mode": {
    "name": "ipython",
    "version": 3
   },
   "file_extension": ".py",
   "mimetype": "text/x-python",
   "name": "python",
   "nbconvert_exporter": "python",
   "pygments_lexer": "ipython3",
   "version": "3.10.7"
  }
 },
 "nbformat": 4,
 "nbformat_minor": 5
}
