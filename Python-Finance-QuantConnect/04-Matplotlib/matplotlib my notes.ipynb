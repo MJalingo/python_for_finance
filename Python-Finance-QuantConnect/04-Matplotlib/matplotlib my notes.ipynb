{
 "cells": [
  {
   "cell_type": "markdown",
   "id": "88faff16",
   "metadata": {},
   "source": [
    "# Useful Documentation For matplotlib\n",
    "* http://matplotlib.org/\n",
    "# \n",
    "* http://matplotlib.org/gallery.html"
   ]
  },
  {
   "cell_type": "code",
   "execution_count": 2,
   "id": "d5eff6a9",
   "metadata": {},
   "outputs": [
    {
     "data": {
      "text/plain": [
       "25"
      ]
     },
     "execution_count": 2,
     "metadata": {},
     "output_type": "execute_result"
    }
   ],
   "source": [
    "# gender = ['male','male','male','male','male','male','female','male','male','male','male','male','male','male','male','male','male','female','female','female','female','female','male','male','male',]\n",
    "# phone = None#[i for i in range(1,26)]\n",
    "# email = None#[i for i in range(1,26)]\n",
    "# state = None#[i for i in range(1,26)]\n",
    "# len(gender)\n",
    "\n",
    "\n",
    "\n",
    "\n",
    "\n",
    "# import pandas as pd\n",
    "# list = {\"name\":'''Albert Makyor Kator,Gabriel Ukeje,Jesse Okoye,Kingsley Otuije,Muhammed Muktar,Ononugbo Chigozinm,Otuiji Maryam Umar,Ammar bako,Imad Mohammed Sani,Nasirudeen Haroon,Okechukwu Ikeogu,Eyo Okon,Khalifa Suleiman,Musa Saleh Musa,Haruna Usman Ismael,Mathias Unimke,Ibrahim Musa,Princessheila Ojineme,Bassey Victoria,Stephen Bassey,Bassey Elizabeth,Bassey Therasa,Aminu Dantata,Gabriel Unge,Abdulrasheed Mohammad Modibo'''.split(','),\n",
    "#         'gender':gender,\n",
    "#         'phone':phone,\n",
    "#         'email':email,\n",
    "#         'state of origin':state }\n",
    "# df = pd.DataFrame(data=(list))#.sort_values(by=['name'])\n",
    "\n",
    "df = df.set_index('name')\n",
    "\n",
    "df"
   ]
  },
  {
   "cell_type": "code",
   "execution_count": 3,
   "id": "80dfa359",
   "metadata": {},
   "outputs": [],
   "source": [
    "import matplotlib.pyplot as plt"
   ]
  },
  {
   "cell_type": "code",
   "execution_count": 12,
   "id": "c03edaff",
   "metadata": {},
   "outputs": [],
   "source": [
    "import turtle\n",
    "ninja = turtle.Turtle( )\n",
    "ninja.speed(10)\n",
    "for i in range(180):\n",
    "    ninja.forward(99)\n",
    "    ninja.right(29)\n",
    "    ninja.left(70)\n",
    "    ninja.forward(50)\n",
    "    ninja.right(31)\n",
    "\n",
    "    ninja.penup( )\n",
    "    ninja.setposition(0 ,0)\n",
    "    ninja.pendown( )\n",
    "\n",
    "    ninja.right(3)\n",
    "    turtle.done"
   ]
  },
  {
   "cell_type": "code",
   "execution_count": 1,
   "id": "3fb39673",
   "metadata": {},
   "outputs": [
    {
     "ename": "SyntaxError",
     "evalue": "invalid syntax (1241086339.py, line 1)",
     "output_type": "error",
     "traceback": [
      "\u001b[1;36m  Cell \u001b[1;32mIn[1], line 1\u001b[1;36m\u001b[0m\n\u001b[1;33m    <table border=\"1\" class=\"dataframe\">\u001b[0m\n\u001b[1;37m    ^\u001b[0m\n\u001b[1;31mSyntaxError\u001b[0m\u001b[1;31m:\u001b[0m invalid syntax\n"
     ]
    }
   ],
   "source": []
  },
  {
   "cell_type": "code",
   "execution_count": null,
   "id": "207fa359",
   "metadata": {},
   "outputs": [],
   "source": []
  },
  {
   "cell_type": "code",
   "execution_count": null,
   "id": "5b80c617",
   "metadata": {},
   "outputs": [],
   "source": []
  },
  {
   "cell_type": "code",
   "execution_count": null,
   "id": "bc967a93",
   "metadata": {},
   "outputs": [],
   "source": []
  },
  {
   "cell_type": "code",
   "execution_count": null,
   "id": "9e634425",
   "metadata": {},
   "outputs": [],
   "source": []
  },
  {
   "cell_type": "code",
   "execution_count": null,
   "id": "6ee516a7",
   "metadata": {},
   "outputs": [],
   "source": []
  },
  {
   "cell_type": "code",
   "execution_count": null,
   "id": "17024d89",
   "metadata": {},
   "outputs": [],
   "source": []
  },
  {
   "cell_type": "code",
   "execution_count": null,
   "id": "3922c4b1",
   "metadata": {},
   "outputs": [],
   "source": []
  }
 ],
 "metadata": {
  "kernelspec": {
   "display_name": "Python 3 (ipykernel)",
   "language": "python",
   "name": "python3"
  },
  "language_info": {
   "codemirror_mode": {
    "name": "ipython",
    "version": 3
   },
   "file_extension": ".py",
   "mimetype": "text/x-python",
   "name": "python",
   "nbconvert_exporter": "python",
   "pygments_lexer": "ipython3",
   "version": "3.10.6"
  }
 },
 "nbformat": 4,
 "nbformat_minor": 5
}
