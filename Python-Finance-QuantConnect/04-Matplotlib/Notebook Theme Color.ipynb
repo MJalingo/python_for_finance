{
 "cells": [
  {
   "cell_type": "code",
   "execution_count": 5,
   "id": "9517c5a5",
   "metadata": {},
   "outputs": [
    {
     "name": "stdout",
     "output_type": "stream",
     "text": [
      "Reset css and font defaults in:\n",
      "C:\\Users\\ncair\\.jupyter\\custom &\n",
      "C:\\Users\\ncair\\AppData\\Roaming\\jupyter\\nbextensions\n"
     ]
    }
   ],
   "source": [
    "# !pip install jupyterthemes\n",
    "# !jt -t chesterish\n",
    "!jt -r\n",
    "# !jt -t\n",
    "\n",
    "# !jt -t chesterish\n"
   ]
  },
  {
   "cell_type": "code",
   "execution_count": null,
   "id": "575231c1",
   "metadata": {},
   "outputs": [],
   "source": []
  }
 ],
 "metadata": {
  "kernelspec": {
   "display_name": "Python 3 (ipykernel)",
   "language": "python",
   "name": "python3"
  },
  "language_info": {
   "codemirror_mode": {
    "name": "ipython",
    "version": 3
   },
   "file_extension": ".py",
   "mimetype": "text/x-python",
   "name": "python",
   "nbconvert_exporter": "python",
   "pygments_lexer": "ipython3",
   "version": "3.10.6"
  }
 },
 "nbformat": 4,
 "nbformat_minor": 5
}
