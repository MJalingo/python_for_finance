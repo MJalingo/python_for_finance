{
 "cells": [
  {
   "cell_type": "code",
   "execution_count": 7,
   "id": "26ea239e",
   "metadata": {},
   "outputs": [],
   "source": [
    "import matplotlib.pyplot as plt\n",
    "import numpy as np"
   ]
  },
  {
   "cell_type": "markdown",
   "id": "18273e35",
   "metadata": {},
   "source": [
    "```\n",
    "my blue choice:{ #448899,\n",
    "    rgb(68, 136, 153),\n",
    "    hsl(192, 38%, 43%)}\n",
    "```\n",
    "- [x] Write the press release\n",
    "- [ ] Update the website\n",
    "- [ ] Contact the media\n",
    "* [**Advanced Matplotlib Commands**](http://localhost:8888/notebooks/04-Matplotlib/06-Additional-Matplotlib-Commands-NO_VIDEO.ipynb)\n"
   ]
  },
  {
   "cell_type": "code",
   "execution_count": null,
   "id": "bdcae9e7",
   "metadata": {},
   "outputs": [],
   "source": [
    "!git add .\n",
    "!git commit -m \"making new notes\"\n",
    "!git push"
   ]
  },
  {
   "cell_type": "markdown",
   "id": "0efb9653",
   "metadata": {},
   "source": []
  }
 ],
 "metadata": {
  "kernelspec": {
   "display_name": "Python 3 (ipykernel)",
   "language": "python",
   "name": "python3"
  },
  "language_info": {
   "codemirror_mode": {
    "name": "ipython",
    "version": 3
   },
   "file_extension": ".py",
   "mimetype": "text/x-python",
   "name": "python",
   "nbconvert_exporter": "python",
   "pygments_lexer": "ipython3",
   "version": "3.10.6"
  }
 },
 "nbformat": 4,
 "nbformat_minor": 5
}
