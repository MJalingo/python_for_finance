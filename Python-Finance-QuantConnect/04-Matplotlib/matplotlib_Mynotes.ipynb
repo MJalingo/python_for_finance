{
 "cells": [
  {
   "cell_type": "markdown",
   "id": "19a40242",
   "metadata": {},
   "source": [
    "### My Notes\n",
    "```\n",
    "my blue choice:{ #448899,\n",
    "    rgb(68, 136, 153),\n",
    "    hsl(192, 38%, 43%)}\n",
    "```\n",
    "- [x] Write the press release\n",
    "- [ ] Update the website\n",
    "- [ ] Contact the media\n",
    "* [**Advanced Matplotlib Commands**](http://localhost:8888/notebooks/04-Matplotlib/06-Additional-Matplotlib-Commands-NO_VIDEO.ipynb)\n"
   ]
  },
  {
   "cell_type": "code",
   "execution_count": null,
   "id": "26ea239e",
   "metadata": {},
   "outputs": [],
   "source": [
    "import matplotlib.pyplot as plt\n",
    "import numpy as np"
   ]
  },
  {
   "cell_type": "code",
   "execution_count": null,
   "id": "702baea5",
   "metadata": {},
   "outputs": [],
   "source": [
    "x = np.arange(0,10)"
   ]
  },
  {
   "cell_type": "code",
   "execution_count": null,
   "id": "2e473081",
   "metadata": {},
   "outputs": [],
   "source": [
    "plt.plot(x,2*x)\n",
    "plt.xlabel(\"X Axes\")\n",
    "plt.ylabel(\"y Axes\")\n",
    "plt.xlim(0,6)\n",
    "plt.ylim(0,12)\n",
    "plt.title(\"string plot\");\n",
    "plt.savefig(\"myfirstplot.png\")"
   ]
  },
  {
   "cell_type": "code",
   "execution_count": null,
   "id": "8d34e11f",
   "metadata": {},
   "outputs": [],
   "source": []
  },
  {
   "cell_type": "code",
   "execution_count": null,
   "id": "e4bbcfa3",
   "metadata": {},
   "outputs": [],
   "source": []
  },
  {
   "cell_type": "code",
   "execution_count": null,
   "id": "effe73dd",
   "metadata": {},
   "outputs": [],
   "source": []
  },
  {
   "cell_type": "code",
   "execution_count": null,
   "id": "90e69e08",
   "metadata": {},
   "outputs": [],
   "source": [
    "# !git add .\n",
    "# !git commit -m \"making new notes\"\n",
    "# !git push"
   ]
  }
 ],
 "metadata": {
  "kernelspec": {
   "display_name": "Python 3 (ipykernel)",
   "language": "python",
   "name": "python3"
  },
  "language_info": {
   "codemirror_mode": {
    "name": "ipython",
    "version": 3
   },
   "file_extension": ".py",
   "mimetype": "text/x-python",
   "name": "python",
   "nbconvert_exporter": "python",
   "pygments_lexer": "ipython3",
   "version": "3.10.6"
  }
 },
 "nbformat": 4,
 "nbformat_minor": 5
}
